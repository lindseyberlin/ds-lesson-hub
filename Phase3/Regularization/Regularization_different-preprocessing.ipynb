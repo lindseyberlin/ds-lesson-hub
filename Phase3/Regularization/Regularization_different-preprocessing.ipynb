{
 "cells": [
  {
   "cell_type": "markdown",
   "metadata": {},
   "source": [
    "# Regularization\n",
    "\n",
    "## Why Regularize?\n",
    "\n",
    "In an attempt to fit a good model to data, we often tend to overfit. Regularization discourages overly complex models by penalizing the loss function.\n",
    "\n",
    "### The Bias-Variance Tradeoff\n",
    "\n",
    "When we did Linear Regression, we briefly talked about the Bias-Variance Tradeoff.\n",
    "\n",
    "![](http://scott.fortmann-roe.com/docs/docs/BiasVariance/biasvariance.png)\n",
    "\n",
    "![](https://miro.medium.com/max/544/1*Y-yJiR0FzMgchPA-Fm5c1Q.jpeg)"
   ]
  },
  {
   "cell_type": "markdown",
   "metadata": {},
   "source": [
    "**High bias** \n",
    "\n",
    " - Systematic error in predictions (i.e. the average)\n",
    " - Bias is about the strength of assumptions the model makes\n",
    " - Underfit models tend to have high bias\n",
    "\n",
    "\n",
    "**High variance**\n",
    "\n",
    " - The model is highly sensitive to changes in the data\n",
    " - Overfit models tend to have low bias and high variance\n",
    "    \n",
    "    \n",
    "![](https://gblobscdn.gitbook.com/assets%2F-LvBP1svpACTB1R1x_U4%2F-LvNWUoWieQqaGmU_gl9%2F-LvNoby-llz4QzAK15nL%2Fimage.png?alt=media&token=41720ce9-bb66-4419-9bd8-640abf1fc415)\n",
    "\n",
    " - Underfit Models fail to capture all of the information in the data\n",
    " - Overfit models fit to the noise in the data and fail to generalize\n",
    "\n",
    "\n",
    "**How would we know if our model is over or underfit?**\n",
    " - Train test split & look at the testing error\n",
    " - As model complexity increases so does the possibility for overfitting"
   ]
  },
  {
   "cell_type": "markdown",
   "metadata": {},
   "source": [
    "## Ridge and Lasso\n",
    "\n",
    "Ridge and Lasso regression are two examples of penalized estimation. Penalized estimation makes some or all of the coefficients smaller in magnitude (closer to zero). Some of the penalties have the property of performing both variable selection (setting some coefficients exactly equal to zero) and shrinking the other coefficients. \n",
    "\n",
    "In Ridge regression, the cost function is changed by adding a penalty term to the square of the magnitude of the coefficients. \n",
    "\n",
    "$$ \\text{cost_function_ridge}= \\sum_{i=1}^n(y_i - \\hat{y})^2 = \\sum_{i=1}^n(y_i - \\sum_{j=1}^k(m_jx_{ij})-b)^2 + \\lambda \\sum_{j=1}^p m_j^2$$\n",
    "\n",
    "Lasso regression (Least Absolute Shrinkage and Selection Operator) is very similar to Ridge regression, except that the magnitude of the coefficients are not squared in the penalty term.\n",
    "\n",
    "$$ \\text{cost_function_lasso}= \\sum_{i=1}^n(y_i - \\hat{y})^2 = \\sum_{i=1}^n(y_i - \\sum_{j=1}^k(m_jx_{ij})-b)^2 + \\lambda \\sum_{j=1}^p \\mid m_j \\mid$$\n",
    "\n",
    "So we're penalizing large coefficients -- what are the effects/implications of that?\n",
    "\n",
    "### Standardization before Regularization\n",
    "\n",
    "An important step before using either Lasso or Ridge regularization is to first standardize your data such that it is all on the same scale. Regularization is based on the concept of penalizing larger coefficients, so **if you have features that are on different scales, some will get unfairly penalized**. A downside of standardization is that the value of the coefficients become less interpretable and must be transformed back to their original scale if you want to interpret how a one unit change in a feature impacts the target variable.\n",
    "\n",
    "**Scaler documentation:**\n",
    "\n",
    "* https://scikit-learn.org/stable/modules/generated/sklearn.preprocessing.MinMaxScaler.html\n",
    "* https://scikit-learn.org/stable/modules/generated/sklearn.preprocessing.StandardScaler.html"
   ]
  },
  {
   "cell_type": "markdown",
   "metadata": {},
   "source": [
    "## Let's Code! \n",
    "\n",
    "Start with a regular Linear Regression."
   ]
  },
  {
   "cell_type": "code",
   "execution_count": 1,
   "metadata": {},
   "outputs": [],
   "source": [
    "import pandas as pd\n",
    "import numpy as np\n",
    "\n",
    "import matplotlib.pyplot as plt\n",
    "\n",
    "from sklearn.model_selection import train_test_split\n",
    "from sklearn.metrics import mean_squared_error, r2_score\n",
    "from sklearn.linear_model import LinearRegression\n",
    "from sklearn.impute import SimpleImputer\n",
    "from sklearn.preprocessing import StandardScaler, MinMaxScaler\n",
    "from sklearn.preprocessing import OneHotEncoder\n",
    "\n",
    "# import warnings\n",
    "# warnings.filterwarnings('ignore')"
   ]
  },
  {
   "cell_type": "code",
   "execution_count": 2,
   "metadata": {},
   "outputs": [],
   "source": [
    "df = pd.read_csv('data/ames_train.csv') # Ames housing data\n",
    "\n",
    "# Drop sale detail columns \n",
    "df = df.drop(columns = ['Id', 'MoSold', 'YrSold', 'SaleType', 'SaleCondition'])\n",
    "\n",
    "# Create X and y\n",
    "y = df['SalePrice']\n",
    "X = df.drop(columns=['SalePrice'], axis=1)\n",
    "\n",
    "# Split data into training and test sets\n",
    "X_train, X_test, y_train, y_test = train_test_split(X, y, random_state=42)"
   ]
  },
  {
   "cell_type": "markdown",
   "metadata": {},
   "source": [
    "### Time to Clean/Process"
   ]
  },
  {
   "cell_type": "code",
   "execution_count": 3,
   "metadata": {
    "scrolled": false
   },
   "outputs": [
    {
     "name": "stdout",
     "output_type": "stream",
     "text": [
      "<class 'pandas.core.frame.DataFrame'>\n",
      "Int64Index: 1095 entries, 1023 to 1126\n",
      "Data columns (total 75 columns):\n",
      " #   Column         Non-Null Count  Dtype  \n",
      "---  ------         --------------  -----  \n",
      " 0   MSSubClass     1095 non-null   int64  \n",
      " 1   MSZoning       1095 non-null   object \n",
      " 2   LotFrontage    895 non-null    float64\n",
      " 3   LotArea        1095 non-null   int64  \n",
      " 4   Street         1095 non-null   object \n",
      " 5   Alley          70 non-null     object \n",
      " 6   LotShape       1095 non-null   object \n",
      " 7   LandContour    1095 non-null   object \n",
      " 8   Utilities      1095 non-null   object \n",
      " 9   LotConfig      1095 non-null   object \n",
      " 10  LandSlope      1095 non-null   object \n",
      " 11  Neighborhood   1095 non-null   object \n",
      " 12  Condition1     1095 non-null   object \n",
      " 13  Condition2     1095 non-null   object \n",
      " 14  BldgType       1095 non-null   object \n",
      " 15  HouseStyle     1095 non-null   object \n",
      " 16  OverallQual    1095 non-null   int64  \n",
      " 17  OverallCond    1095 non-null   int64  \n",
      " 18  YearBuilt      1095 non-null   int64  \n",
      " 19  YearRemodAdd   1095 non-null   int64  \n",
      " 20  RoofStyle      1095 non-null   object \n",
      " 21  RoofMatl       1095 non-null   object \n",
      " 22  Exterior1st    1095 non-null   object \n",
      " 23  Exterior2nd    1095 non-null   object \n",
      " 24  MasVnrType     1091 non-null   object \n",
      " 25  MasVnrArea     1091 non-null   float64\n",
      " 26  ExterQual      1095 non-null   object \n",
      " 27  ExterCond      1095 non-null   object \n",
      " 28  Foundation     1095 non-null   object \n",
      " 29  BsmtQual       1068 non-null   object \n",
      " 30  BsmtCond       1068 non-null   object \n",
      " 31  BsmtExposure   1068 non-null   object \n",
      " 32  BsmtFinType1   1068 non-null   object \n",
      " 33  BsmtFinSF1     1095 non-null   int64  \n",
      " 34  BsmtFinType2   1068 non-null   object \n",
      " 35  BsmtFinSF2     1095 non-null   int64  \n",
      " 36  BsmtUnfSF      1095 non-null   int64  \n",
      " 37  TotalBsmtSF    1095 non-null   int64  \n",
      " 38  Heating        1095 non-null   object \n",
      " 39  HeatingQC      1095 non-null   object \n",
      " 40  CentralAir     1095 non-null   object \n",
      " 41  Electrical     1094 non-null   object \n",
      " 42  1stFlrSF       1095 non-null   int64  \n",
      " 43  2ndFlrSF       1095 non-null   int64  \n",
      " 44  LowQualFinSF   1095 non-null   int64  \n",
      " 45  GrLivArea      1095 non-null   int64  \n",
      " 46  BsmtFullBath   1095 non-null   int64  \n",
      " 47  BsmtHalfBath   1095 non-null   int64  \n",
      " 48  FullBath       1095 non-null   int64  \n",
      " 49  HalfBath       1095 non-null   int64  \n",
      " 50  BedroomAbvGr   1095 non-null   int64  \n",
      " 51  KitchenAbvGr   1095 non-null   int64  \n",
      " 52  KitchenQual    1095 non-null   object \n",
      " 53  TotRmsAbvGrd   1095 non-null   int64  \n",
      " 54  Functional     1095 non-null   object \n",
      " 55  Fireplaces     1095 non-null   int64  \n",
      " 56  FireplaceQu    583 non-null    object \n",
      " 57  GarageType     1037 non-null   object \n",
      " 58  GarageYrBlt    1037 non-null   float64\n",
      " 59  GarageFinish   1037 non-null   object \n",
      " 60  GarageCars     1095 non-null   int64  \n",
      " 61  GarageArea     1095 non-null   int64  \n",
      " 62  GarageQual     1037 non-null   object \n",
      " 63  GarageCond     1037 non-null   object \n",
      " 64  PavedDrive     1095 non-null   object \n",
      " 65  WoodDeckSF     1095 non-null   int64  \n",
      " 66  OpenPorchSF    1095 non-null   int64  \n",
      " 67  EnclosedPorch  1095 non-null   int64  \n",
      " 68  3SsnPorch      1095 non-null   int64  \n",
      " 69  ScreenPorch    1095 non-null   int64  \n",
      " 70  PoolArea       1095 non-null   int64  \n",
      " 71  PoolQC         6 non-null      object \n",
      " 72  Fence          218 non-null    object \n",
      " 73  MiscFeature    43 non-null     object \n",
      " 74  MiscVal        1095 non-null   int64  \n",
      "dtypes: float64(3), int64(31), object(41)\n",
      "memory usage: 650.2+ KB\n"
     ]
    }
   ],
   "source": [
    "X_train.info()"
   ]
  },
  {
   "cell_type": "code",
   "execution_count": 4,
   "metadata": {
    "scrolled": true
   },
   "outputs": [
    {
     "data": {
      "text/plain": [
       "PoolQC          0.994521\n",
       "MiscFeature     0.960731\n",
       "Alley           0.936073\n",
       "Fence           0.800913\n",
       "FireplaceQu     0.467580\n",
       "LotFrontage     0.182648\n",
       "GarageQual      0.052968\n",
       "GarageType      0.052968\n",
       "GarageYrBlt     0.052968\n",
       "GarageFinish    0.052968\n",
       "GarageCond      0.052968\n",
       "BsmtCond        0.024658\n",
       "BsmtExposure    0.024658\n",
       "BsmtFinType2    0.024658\n",
       "BsmtQual        0.024658\n",
       "BsmtFinType1    0.024658\n",
       "MasVnrArea      0.003653\n",
       "MasVnrType      0.003653\n",
       "Electrical      0.000913\n",
       "YearRemodAdd    0.000000\n",
       "dtype: float64"
      ]
     },
     "execution_count": 4,
     "metadata": {},
     "output_type": "execute_result"
    }
   ],
   "source": [
    "# Let's check the percentage of our training data that's null per column\n",
    "null_perc = X_train.isna().sum() / len(X_train)\n",
    "null_perc.sort_values(ascending=False).head(20)"
   ]
  },
  {
   "cell_type": "code",
   "execution_count": 5,
   "metadata": {},
   "outputs": [
    {
     "name": "stdout",
     "output_type": "stream",
     "text": [
      "['LotFrontage', 'Alley', 'FireplaceQu', 'PoolQC', 'Fence', 'MiscFeature']\n"
     ]
    }
   ],
   "source": [
    "# Drop where nulls are more than 10% of column\n",
    "null_cols = list(null_perc[null_perc > .1].index)\n",
    "print(null_cols)\n",
    "\n",
    "X_train = X_train.drop(columns=null_cols, axis=1)\n",
    "X_test = X_test.drop(columns=null_cols, axis=1)"
   ]
  },
  {
   "cell_type": "code",
   "execution_count": 6,
   "metadata": {},
   "outputs": [],
   "source": [
    "# Start with the continuous variables\n",
    "\n",
    "# Grab only numeric features\n",
    "cont_features = [col for col in X_train.columns if X_train[col].dtype in [np.float64, np.int64]]\n",
    "\n",
    "X_train_cont = X_train[cont_features]\n",
    "X_test_cont = X_test[cont_features]\n",
    "\n",
    "# Impute missing values with 0 using SimpleImputer\n",
    "# (most columns look like they just don't have details)\n",
    "impute = SimpleImputer(strategy='constant', fill_value=0) \n",
    "X_train_imputed = impute.fit_transform(X_train_cont)\n",
    "X_test_imputed = impute.transform(X_test_cont) \n",
    "\n",
    "# Scale the train and test data\n",
    "scaler = StandardScaler()\n",
    "X_train_imputed_scaled = scaler.fit_transform(X_train_imputed)\n",
    "X_test_imputed_scaled = scaler.transform(X_test_imputed)"
   ]
  },
  {
   "cell_type": "code",
   "execution_count": 7,
   "metadata": {},
   "outputs": [
    {
     "name": "stderr",
     "output_type": "stream",
     "text": [
      "/opt/anaconda3/envs/learn-env/lib/python3.8/site-packages/pandas/core/frame.py:4317: SettingWithCopyWarning: \n",
      "A value is trying to be set on a copy of a slice from a DataFrame\n",
      "\n",
      "See the caveats in the documentation: https://pandas.pydata.org/pandas-docs/stable/user_guide/indexing.html#returning-a-view-versus-a-copy\n",
      "  return super().fillna(\n"
     ]
    }
   ],
   "source": [
    "# Now time for the categorical columns\n",
    "\n",
    "# Create X_cat which contains only the categorical variables\n",
    "features_cat = [col for col in X_train.columns if X_train[col].dtype in [np.object]]\n",
    "X_train_cat = X_train[features_cat]\n",
    "X_test_cat = X_test[features_cat]\n",
    "\n",
    "# Fill missing values with the string 'missing'\n",
    "X_train_cat.fillna(value='missing', inplace=True)\n",
    "X_test_cat.fillna(value='missing', inplace=True)"
   ]
  },
  {
   "cell_type": "code",
   "execution_count": 8,
   "metadata": {
    "scrolled": false
   },
   "outputs": [
    {
     "data": {
      "text/plain": [
       "RL         0.790868\n",
       "RM         0.149772\n",
       "FV         0.042922\n",
       "RH         0.012785\n",
       "C (all)    0.003653\n",
       "Name: MSZoning, dtype: float64"
      ]
     },
     "metadata": {},
     "output_type": "display_data"
    },
    {
     "data": {
      "text/plain": [
       "Pave    0.996347\n",
       "Grvl    0.003653\n",
       "Name: Street, dtype: float64"
      ]
     },
     "metadata": {},
     "output_type": "display_data"
    },
    {
     "name": "stdout",
     "output_type": "stream",
     "text": [
      "You should remove Street\n"
     ]
    },
    {
     "data": {
      "text/plain": [
       "Reg    0.621918\n",
       "IR1    0.338813\n",
       "IR2    0.031963\n",
       "IR3    0.007306\n",
       "Name: LotShape, dtype: float64"
      ]
     },
     "metadata": {},
     "output_type": "display_data"
    },
    {
     "data": {
      "text/plain": [
       "Lvl    0.905936\n",
       "Bnk    0.041096\n",
       "HLS    0.029224\n",
       "Low    0.023744\n",
       "Name: LandContour, dtype: float64"
      ]
     },
     "metadata": {},
     "output_type": "display_data"
    },
    {
     "name": "stdout",
     "output_type": "stream",
     "text": [
      "You should remove LandContour\n"
     ]
    },
    {
     "data": {
      "text/plain": [
       "AllPub    0.999087\n",
       "NoSeWa    0.000913\n",
       "Name: Utilities, dtype: float64"
      ]
     },
     "metadata": {},
     "output_type": "display_data"
    },
    {
     "name": "stdout",
     "output_type": "stream",
     "text": [
      "You should remove Utilities\n"
     ]
    },
    {
     "data": {
      "text/plain": [
       "Inside     0.699543\n",
       "Corner     0.190868\n",
       "CulDSac    0.073059\n",
       "FR2        0.033790\n",
       "FR3        0.002740\n",
       "Name: LotConfig, dtype: float64"
      ]
     },
     "metadata": {},
     "output_type": "display_data"
    },
    {
     "data": {
      "text/plain": [
       "Gtl    0.946119\n",
       "Mod    0.045662\n",
       "Sev    0.008219\n",
       "Name: LandSlope, dtype: float64"
      ]
     },
     "metadata": {},
     "output_type": "display_data"
    },
    {
     "name": "stdout",
     "output_type": "stream",
     "text": [
      "You should remove LandSlope\n"
     ]
    },
    {
     "data": {
      "text/plain": [
       "NAmes      0.152511\n",
       "CollgCr    0.102283\n",
       "OldTown    0.079452\n",
       "Edwards    0.075799\n",
       "Somerst    0.056621\n",
       "NWAmes     0.054795\n",
       "Gilbert    0.053881\n",
       "NridgHt    0.052968\n",
       "Sawyer     0.046575\n",
       "BrkSide    0.040183\n",
       "SawyerW    0.036530\n",
       "Crawfor    0.035616\n",
       "Mitchel    0.034703\n",
       "NoRidge    0.028311\n",
       "Timber     0.024658\n",
       "IDOTRR     0.022831\n",
       "StoneBr    0.018265\n",
       "ClearCr    0.017352\n",
       "SWISU      0.016438\n",
       "Blmngtn    0.013699\n",
       "BrDale     0.011872\n",
       "MeadowV    0.009132\n",
       "Veenker    0.008219\n",
       "NPkVill    0.006393\n",
       "Blueste    0.000913\n",
       "Name: Neighborhood, dtype: float64"
      ]
     },
     "metadata": {},
     "output_type": "display_data"
    },
    {
     "data": {
      "text/plain": [
       "Norm      0.863927\n",
       "Feedr     0.053881\n",
       "Artery    0.033790\n",
       "RRAn      0.015525\n",
       "PosN      0.012785\n",
       "RRAe      0.009132\n",
       "PosA      0.005479\n",
       "RRNn      0.004566\n",
       "RRNe      0.000913\n",
       "Name: Condition1, dtype: float64"
      ]
     },
     "metadata": {},
     "output_type": "display_data"
    },
    {
     "data": {
      "text/plain": [
       "Norm      0.991781\n",
       "Feedr     0.002740\n",
       "PosN      0.001826\n",
       "Artery    0.001826\n",
       "RRAe      0.000913\n",
       "RRAn      0.000913\n",
       "Name: Condition2, dtype: float64"
      ]
     },
     "metadata": {},
     "output_type": "display_data"
    },
    {
     "name": "stdout",
     "output_type": "stream",
     "text": [
      "You should remove Condition2\n"
     ]
    },
    {
     "data": {
      "text/plain": [
       "1Fam      0.835616\n",
       "TwnhsE    0.076712\n",
       "Duplex    0.033790\n",
       "Twnhs     0.029224\n",
       "2fmCon    0.024658\n",
       "Name: BldgType, dtype: float64"
      ]
     },
     "metadata": {},
     "output_type": "display_data"
    },
    {
     "data": {
      "text/plain": [
       "1Story    0.494064\n",
       "2Story    0.309589\n",
       "1.5Fin    0.104110\n",
       "SLvl      0.045662\n",
       "SFoyer    0.021005\n",
       "1.5Unf    0.010046\n",
       "2.5Unf    0.009132\n",
       "2.5Fin    0.006393\n",
       "Name: HouseStyle, dtype: float64"
      ]
     },
     "metadata": {},
     "output_type": "display_data"
    },
    {
     "data": {
      "text/plain": [
       "Gable      0.769863\n",
       "Hip        0.205479\n",
       "Flat       0.010046\n",
       "Gambrel    0.008219\n",
       "Mansard    0.004566\n",
       "Shed       0.001826\n",
       "Name: RoofStyle, dtype: float64"
      ]
     },
     "metadata": {},
     "output_type": "display_data"
    },
    {
     "data": {
      "text/plain": [
       "CompShg    0.982648\n",
       "Tar&Grv    0.008219\n",
       "WdShngl    0.003653\n",
       "WdShake    0.002740\n",
       "ClyTile    0.000913\n",
       "Metal      0.000913\n",
       "Roll       0.000913\n",
       "Name: RoofMatl, dtype: float64"
      ]
     },
     "metadata": {},
     "output_type": "display_data"
    },
    {
     "name": "stdout",
     "output_type": "stream",
     "text": [
      "You should remove RoofMatl\n"
     ]
    },
    {
     "data": {
      "text/plain": [
       "VinylSd    0.359817\n",
       "HdBoard    0.152511\n",
       "MetalSd    0.146119\n",
       "Wd Sdng    0.145205\n",
       "Plywood    0.068493\n",
       "CemntBd    0.038356\n",
       "BrkFace    0.034703\n",
       "WdShing    0.017352\n",
       "Stucco     0.017352\n",
       "AsbShng    0.014612\n",
       "BrkComm    0.001826\n",
       "CBlock     0.000913\n",
       "ImStucc    0.000913\n",
       "AsphShn    0.000913\n",
       "Stone      0.000913\n",
       "Name: Exterior1st, dtype: float64"
      ]
     },
     "metadata": {},
     "output_type": "display_data"
    },
    {
     "data": {
      "text/plain": [
       "VinylSd    0.351598\n",
       "Wd Sdng    0.140639\n",
       "HdBoard    0.140639\n",
       "MetalSd    0.139726\n",
       "Plywood    0.094064\n",
       "CmentBd    0.037443\n",
       "Wd Shng    0.029224\n",
       "Stucco     0.019178\n",
       "AsbShng    0.015525\n",
       "BrkFace    0.013699\n",
       "ImStucc    0.005479\n",
       "Brk Cmn    0.005479\n",
       "AsphShn    0.002740\n",
       "Stone      0.002740\n",
       "CBlock     0.000913\n",
       "Other      0.000913\n",
       "Name: Exterior2nd, dtype: float64"
      ]
     },
     "metadata": {},
     "output_type": "display_data"
    },
    {
     "data": {
      "text/plain": [
       "None       0.579909\n",
       "BrkFace    0.315068\n",
       "Stone      0.090411\n",
       "BrkCmn     0.010959\n",
       "missing    0.003653\n",
       "Name: MasVnrType, dtype: float64"
      ]
     },
     "metadata": {},
     "output_type": "display_data"
    },
    {
     "data": {
      "text/plain": [
       "TA    0.622831\n",
       "Gd    0.331507\n",
       "Ex    0.035616\n",
       "Fa    0.010046\n",
       "Name: ExterQual, dtype: float64"
      ]
     },
     "metadata": {},
     "output_type": "display_data"
    },
    {
     "data": {
      "text/plain": [
       "TA    0.876712\n",
       "Gd    0.098630\n",
       "Fa    0.021918\n",
       "Ex    0.001826\n",
       "Po    0.000913\n",
       "Name: ExterCond, dtype: float64"
      ]
     },
     "metadata": {},
     "output_type": "display_data"
    },
    {
     "data": {
      "text/plain": [
       "PConc     0.449315\n",
       "CBlock    0.427397\n",
       "BrkTil    0.098630\n",
       "Slab      0.017352\n",
       "Stone     0.004566\n",
       "Wood      0.002740\n",
       "Name: Foundation, dtype: float64"
      ]
     },
     "metadata": {},
     "output_type": "display_data"
    },
    {
     "data": {
      "text/plain": [
       "TA         0.442922\n",
       "Gd         0.421005\n",
       "Ex         0.085845\n",
       "Fa         0.025571\n",
       "missing    0.024658\n",
       "Name: BsmtQual, dtype: float64"
      ]
     },
     "metadata": {},
     "output_type": "display_data"
    },
    {
     "data": {
      "text/plain": [
       "TA         0.892237\n",
       "Gd         0.047489\n",
       "Fa         0.034703\n",
       "missing    0.024658\n",
       "Po         0.000913\n",
       "Name: BsmtCond, dtype: float64"
      ]
     },
     "metadata": {},
     "output_type": "display_data"
    },
    {
     "data": {
      "text/plain": [
       "No         0.656621\n",
       "Av         0.148858\n",
       "Gd         0.089498\n",
       "Mn         0.080365\n",
       "missing    0.024658\n",
       "Name: BsmtExposure, dtype: float64"
      ]
     },
     "metadata": {},
     "output_type": "display_data"
    },
    {
     "data": {
      "text/plain": [
       "Unf        0.287671\n",
       "GLQ        0.285845\n",
       "ALQ        0.155251\n",
       "BLQ        0.102283\n",
       "Rec        0.092237\n",
       "LwQ        0.052055\n",
       "missing    0.024658\n",
       "Name: BsmtFinType1, dtype: float64"
      ]
     },
     "metadata": {},
     "output_type": "display_data"
    },
    {
     "data": {
      "text/plain": [
       "Unf        0.863927\n",
       "Rec        0.038356\n",
       "LwQ        0.030137\n",
       "missing    0.024658\n",
       "BLQ        0.018265\n",
       "ALQ        0.015525\n",
       "GLQ        0.009132\n",
       "Name: BsmtFinType2, dtype: float64"
      ]
     },
     "metadata": {},
     "output_type": "display_data"
    },
    {
     "data": {
      "text/plain": [
       "GasA     0.977169\n",
       "GasW     0.013699\n",
       "Grav     0.003653\n",
       "Wall     0.002740\n",
       "OthW     0.001826\n",
       "Floor    0.000913\n",
       "Name: Heating, dtype: float64"
      ]
     },
     "metadata": {},
     "output_type": "display_data"
    },
    {
     "name": "stdout",
     "output_type": "stream",
     "text": [
      "You should remove Heating\n"
     ]
    },
    {
     "data": {
      "text/plain": [
       "Ex    0.506849\n",
       "TA    0.291324\n",
       "Gd    0.165297\n",
       "Fa    0.035616\n",
       "Po    0.000913\n",
       "Name: HeatingQC, dtype: float64"
      ]
     },
     "metadata": {},
     "output_type": "display_data"
    },
    {
     "data": {
      "text/plain": [
       "Y    0.928767\n",
       "N    0.071233\n",
       "Name: CentralAir, dtype: float64"
      ]
     },
     "metadata": {},
     "output_type": "display_data"
    },
    {
     "name": "stdout",
     "output_type": "stream",
     "text": [
      "You should remove CentralAir\n"
     ]
    },
    {
     "data": {
      "text/plain": [
       "SBrkr      0.915068\n",
       "FuseA      0.060274\n",
       "FuseF      0.021005\n",
       "FuseP      0.002740\n",
       "missing    0.000913\n",
       "Name: Electrical, dtype: float64"
      ]
     },
     "metadata": {},
     "output_type": "display_data"
    },
    {
     "name": "stdout",
     "output_type": "stream",
     "text": [
      "You should remove Electrical\n"
     ]
    },
    {
     "data": {
      "text/plain": [
       "TA    0.502283\n",
       "Gd    0.401826\n",
       "Ex    0.066667\n",
       "Fa    0.029224\n",
       "Name: KitchenQual, dtype: float64"
      ]
     },
     "metadata": {},
     "output_type": "display_data"
    },
    {
     "data": {
      "text/plain": [
       "Typ     0.925114\n",
       "Min2    0.025571\n",
       "Min1    0.024658\n",
       "Mod     0.011872\n",
       "Maj1    0.008219\n",
       "Maj2    0.003653\n",
       "Sev     0.000913\n",
       "Name: Functional, dtype: float64"
      ]
     },
     "metadata": {},
     "output_type": "display_data"
    },
    {
     "name": "stdout",
     "output_type": "stream",
     "text": [
      "You should remove Functional\n"
     ]
    },
    {
     "data": {
      "text/plain": [
       "Attchd     0.594521\n",
       "Detchd     0.263927\n",
       "BuiltIn    0.063014\n",
       "missing    0.052968\n",
       "Basment    0.013699\n",
       "CarPort    0.006393\n",
       "2Types     0.005479\n",
       "Name: GarageType, dtype: float64"
      ]
     },
     "metadata": {},
     "output_type": "display_data"
    },
    {
     "data": {
      "text/plain": [
       "Unf        0.410046\n",
       "RFn        0.293151\n",
       "Fin        0.243836\n",
       "missing    0.052968\n",
       "Name: GarageFinish, dtype: float64"
      ]
     },
     "metadata": {},
     "output_type": "display_data"
    },
    {
     "data": {
      "text/plain": [
       "TA         0.900457\n",
       "missing    0.052968\n",
       "Fa         0.031963\n",
       "Gd         0.010959\n",
       "Ex         0.002740\n",
       "Po         0.000913\n",
       "Name: GarageQual, dtype: float64"
      ]
     },
     "metadata": {},
     "output_type": "display_data"
    },
    {
     "name": "stdout",
     "output_type": "stream",
     "text": [
      "You should remove GarageQual\n"
     ]
    },
    {
     "data": {
      "text/plain": [
       "TA         0.908676\n",
       "missing    0.052968\n",
       "Fa         0.024658\n",
       "Gd         0.008219\n",
       "Po         0.003653\n",
       "Ex         0.001826\n",
       "Name: GarageCond, dtype: float64"
      ]
     },
     "metadata": {},
     "output_type": "display_data"
    },
    {
     "name": "stdout",
     "output_type": "stream",
     "text": [
      "You should remove GarageCond\n"
     ]
    },
    {
     "data": {
      "text/plain": [
       "Y    0.916895\n",
       "N    0.061187\n",
       "P    0.021918\n",
       "Name: PavedDrive, dtype: float64"
      ]
     },
     "metadata": {},
     "output_type": "display_data"
    },
    {
     "name": "stdout",
     "output_type": "stream",
     "text": [
      "You should remove PavedDrive\n"
     ]
    }
   ],
   "source": [
    "# Exploring column percentages\n",
    "\n",
    "# Let's remove any column where the most common value is more than 90% of that col\n",
    "cols_to_remove = []\n",
    "for col in X_train_cat.columns:\n",
    "    col_series = X_train_cat[col].value_counts()\n",
    "    display(col_series /len(X_train_cat)) # percentages\n",
    "\n",
    "    if col_series[0]/len(X_train_cat) > .9:\n",
    "        print(f\"You should remove {col}\")\n",
    "        cols_to_remove.append(col)"
   ]
  },
  {
   "cell_type": "code",
   "execution_count": 9,
   "metadata": {},
   "outputs": [],
   "source": [
    "# Now drop those\n",
    "X_train_cat = X_train_cat.drop(columns=cols_to_remove, axis=1)\n",
    "X_test_cat = X_test_cat.drop(columns=cols_to_remove, axis=1)"
   ]
  },
  {
   "cell_type": "code",
   "execution_count": 10,
   "metadata": {},
   "outputs": [],
   "source": [
    "# OneHotEncode categorical variables\n",
    "ohe = OneHotEncoder(handle_unknown='ignore')\n",
    "\n",
    "X_train_ohe = ohe.fit_transform(X_train_cat)\n",
    "X_test_ohe = ohe.transform(X_test_cat)\n",
    "\n",
    "# Convert these columns into a DataFrame \n",
    "ohe_col_names = ohe.get_feature_names(input_features=X_train_cat.columns)\n",
    "cat_train_df = pd.DataFrame(X_train_ohe.todense(), columns=ohe_col_names)\n",
    "cat_test_df = pd.DataFrame(X_test_ohe.todense(), columns=ohe_col_names)"
   ]
  },
  {
   "cell_type": "code",
   "execution_count": 14,
   "metadata": {},
   "outputs": [
    {
     "data": {
      "text/plain": [
       "LinearRegression()"
      ]
     },
     "execution_count": 14,
     "metadata": {},
     "output_type": "execute_result"
    }
   ],
   "source": [
    "# Put it all back together\n",
    "X_train_all = pd.concat([pd.DataFrame(X_train_imputed_scaled), cat_train_df], axis=1)\n",
    "X_test_all = pd.concat([pd.DataFrame(X_test_imputed_scaled), cat_test_df], axis=1)\n",
    "\n",
    "# Fit the model\n",
    "linreg = LinearRegression()\n",
    "linreg.fit(X_train_all, y_train)"
   ]
  },
  {
   "cell_type": "code",
   "execution_count": 12,
   "metadata": {},
   "outputs": [],
   "source": [
    "# Write a quick evaluation function\n",
    "\n",
    "def evaluate(train_actual, train_predicted, test_actual, test_predicted):\n",
    "    '''\n",
    "    Takes in both actual and predicted values, for the train and test set\n",
    "    Then prints the scores based on those values\n",
    "    \n",
    "    Inputs:\n",
    "    -------\n",
    "    train_actual - actual target values for the train set\n",
    "    train_predicted - predicted target values for the train set\n",
    "    test_actual - actual target values for the test set\n",
    "    test_predicted - predicted target values for the test set\n",
    "    '''\n",
    "    print('Train R2:', r2_score(train_actual, train_predicted))\n",
    "    print('Test R2:', r2_score(test_actual, test_predicted))\n",
    "    print(\"*****\")\n",
    "    print('Train MSE:', mean_squared_error(train_actual, train_predicted))\n",
    "    print('Test MSE:', mean_squared_error(test_actual, test_predicted))\n",
    "    print(\"*****\")\n",
    "    print('Train RMSE:', mean_squared_error(train_actual, train_predicted, squared=False))\n",
    "    print('Test RMSE:', mean_squared_error(test_actual, test_predicted, squared=False))"
   ]
  },
  {
   "cell_type": "code",
   "execution_count": 15,
   "metadata": {
    "scrolled": false
   },
   "outputs": [
    {
     "name": "stdout",
     "output_type": "stream",
     "text": [
      "Train R2: 0.8902048547244455\n",
      "Test R2: -8.575852570618839e+17\n",
      "*****\n",
      "Train MSE: 666615200.151493\n",
      "Test MSE: 6.007649764448358e+27\n",
      "*****\n",
      "Train RMSE: 25818.892310699408\n",
      "Test RMSE: 77509030212281.45\n"
     ]
    }
   ],
   "source": [
    "# Grab predictions and evaluate\n",
    "train_preds = linreg.predict(X_train_all)\n",
    "test_preds = linreg.predict(X_test_all)\n",
    "\n",
    "evaluate(y_train, train_preds, y_test, test_preds)"
   ]
  },
  {
   "cell_type": "code",
   "execution_count": 16,
   "metadata": {},
   "outputs": [],
   "source": [
    "residuals_train = y_train - train_preds\n",
    "residuals_test = y_test - test_preds"
   ]
  },
  {
   "cell_type": "code",
   "execution_count": 17,
   "metadata": {},
   "outputs": [
    {
     "data": {
      "text/plain": [
       "Text(0.5, 0, 'Predicted Values')"
      ]
     },
     "execution_count": 17,
     "metadata": {},
     "output_type": "execute_result"
    },
    {
     "data": {
      "image/png": "[encoded data removed]",
      "text/plain": [
       "<Figure size 432x288 with 1 Axes>"
      ]
     },
     "metadata": {
      "needs_background": "light"
     },
     "output_type": "display_data"
    }
   ],
   "source": [
    "plt.scatter(train_preds, residuals_train, alpha=.75)\n",
    "plt.scatter(test_preds, residuals_test, color='g', alpha=.75)\n",
    "\n",
    "plt.axhline(y=0, color='black')\n",
    "\n",
    "plt.title('Residuals for Linear Regression Model')\n",
    "plt.ylabel('Residuals')\n",
    "plt.xlabel('Predicted Values')"
   ]
  },
  {
   "cell_type": "code",
   "execution_count": 18,
   "metadata": {},
   "outputs": [
    {
     "data": {
      "text/plain": [
       "array([ 6.36871425e+03,  3.58286634e+03,  1.12682881e+04,  5.68492113e+03,\n",
       "        5.92470174e+03,  2.08903523e+03,  5.71046052e+02, -8.17220082e+15,\n",
       "       -2.74661917e+15, -7.93959852e+15,  7.92200064e+15, -2.79172603e+16,\n",
       "       -3.18005799e+16, -3.53259344e+15,  3.80376535e+16,  4.26731035e+03,\n",
       "        2.37151115e+01,  5.26843727e+03,  2.04949117e+03, -8.36552161e+02,\n",
       "       -3.90452316e+03,  5.38746384e+03,  3.76136896e+03, -4.50027245e+03,\n",
       "        9.62186715e+03,  8.47817565e+01,  2.83465435e+03, -5.24108798e+02,\n",
       "        9.89561769e+02,  2.26477071e+03,  2.52946581e+03,  3.42033184e+02,\n",
       "       -1.10142957e+03,  2.07159378e+15,  2.07159378e+15,  2.07159378e+15,\n",
       "        2.07159378e+15,  2.07159378e+15, -3.25783572e+14, -3.25783572e+14,\n",
       "       -3.25783572e+14, -3.25783572e+14,  6.81010486e+14,  6.81010486e+14,\n",
       "        6.81010486e+14,  6.81010486e+14,  6.81010486e+14, -4.93415429e+14,\n",
       "       -4.93415429e+14, -4.93415429e+14, -4.93415429e+14, -4.93415429e+14,\n",
       "       -4.93415429e+14, -4.93415429e+14, -4.93415429e+14, -4.93415429e+14,\n",
       "       -4.93415429e+14, -4.93415429e+14, -4.93415429e+14, -4.93415429e+14,\n",
       "       -4.93415429e+14, -4.93415429e+14, -4.93415429e+14, -4.93415429e+14,\n",
       "       -4.93415429e+14, -4.93415429e+14, -4.93415429e+14, -4.93415429e+14,\n",
       "       -4.93415429e+14, -4.93415429e+14, -4.93415429e+14, -4.93415429e+14,\n",
       "        3.86306107e+14,  3.86306107e+14,  3.86306107e+14,  3.86306107e+14,\n",
       "        3.86306107e+14,  3.86306107e+14,  3.86306107e+14,  3.86306107e+14,\n",
       "        3.86306107e+14,  1.46182751e+15,  1.46182751e+15,  1.46182751e+15,\n",
       "        1.46182751e+15,  1.46182751e+15, -2.68610112e+15, -2.68610112e+15,\n",
       "       -2.68610112e+15, -2.68610112e+15, -2.68610112e+15, -2.68610112e+15,\n",
       "       -2.68610112e+15, -2.68610112e+15, -1.14807919e+15, -1.14807919e+15,\n",
       "       -1.14807919e+15, -1.14807919e+15, -1.14807919e+15, -1.14807919e+15,\n",
       "        3.82805035e+14,  3.82805035e+14,  3.82805035e+14,  3.82805035e+14,\n",
       "       -3.41052487e+14,  3.82805035e+14,  3.82805035e+14,  3.82805035e+14,\n",
       "        3.82805035e+14,  3.82805035e+14,  3.82805035e+14,  3.82805035e+14,\n",
       "        3.82805035e+14,  3.82805035e+14,  3.82805035e+14, -5.78193052e+14,\n",
       "       -5.78193052e+14, -5.78193052e+14, -5.78193052e+14,  1.45664469e+14,\n",
       "       -5.78193052e+14, -5.78193052e+14, -5.78193052e+14, -5.78193052e+14,\n",
       "       -5.78193052e+14, -5.78193052e+14, -5.78193052e+14, -5.78193052e+14,\n",
       "       -5.78193052e+14, -5.78193052e+14, -5.78193052e+14,  1.49847328e+14,\n",
       "        1.49847328e+14,  1.49847328e+14,  1.49847328e+14,  1.49847328e+14,\n",
       "       -1.48511960e+15, -1.48511960e+15, -1.48511960e+15, -1.48511960e+15,\n",
       "       -9.40046174e+14, -9.40046174e+14, -9.40046174e+14, -9.40046174e+14,\n",
       "       -9.40046174e+14, -1.05801545e+15, -1.05801545e+15, -1.05801545e+15,\n",
       "       -1.05801545e+15, -1.05801545e+15, -1.05801545e+15, -1.09244147e+15,\n",
       "       -1.09244147e+15, -1.09244147e+15, -1.09244147e+15, -6.90365361e+14,\n",
       "       -3.09729137e+14, -3.09729137e+14, -3.09729137e+14, -3.09729137e+14,\n",
       "       -1.57236014e+15, -1.82753538e+14, -1.82753538e+14, -1.82753538e+14,\n",
       "       -1.82753538e+14,  9.42772985e+14,  2.13361260e+15,  2.13361260e+15,\n",
       "        2.13361260e+15,  2.13361260e+15,  2.13361260e+15,  2.13361260e+15,\n",
       "        9.06361279e+14, -1.88863751e+14, -1.88863751e+14, -1.88863751e+14,\n",
       "       -1.88863751e+14, -1.88863751e+14, -1.88863751e+14,  7.73415943e+14,\n",
       "       -1.68122506e+15, -1.68122506e+15, -1.68122506e+15, -1.68122506e+15,\n",
       "       -1.68122506e+15,  2.31180392e+15,  2.31180392e+15,  2.31180392e+15,\n",
       "        2.31180392e+15,  2.31832016e+15,  2.31832016e+15,  2.31832016e+15,\n",
       "        2.31832016e+15,  2.31832016e+15,  2.31832016e+15, -1.61133312e+15,\n",
       "        3.34178577e+14,  3.34178577e+14,  3.34178577e+14,  4.26383186e+15])"
      ]
     },
     "execution_count": 18,
     "metadata": {},
     "output_type": "execute_result"
    }
   ],
   "source": [
    "linreg.coef_"
   ]
  },
  {
   "cell_type": "code",
   "execution_count": 22,
   "metadata": {
    "scrolled": true
   },
   "outputs": [
    {
     "name": "stdout",
     "output_type": "stream",
     "text": [
      "Intercept: -61538967572900.27\n"
     ]
    },
    {
     "data": {
      "text/plain": [
       "GrLivArea               3.803765e+16\n",
       "TotalBsmtSF             7.922001e+15\n",
       "GarageFinish_missing    4.263832e+15\n",
       "GarageType_Basment      2.318320e+15\n",
       "GarageType_Detchd       2.318320e+15\n",
       "                            ...     \n",
       "LowQualFinSF           -3.532593e+15\n",
       "BsmtUnfSF              -7.939599e+15\n",
       "BsmtFinSF1             -8.172201e+15\n",
       "1stFlrSF               -2.791726e+16\n",
       "2ndFlrSF               -3.180058e+16\n",
       "Length: 200, dtype: float64"
      ]
     },
     "metadata": {},
     "output_type": "display_data"
    }
   ],
   "source": [
    "# Explore coefficients\n",
    "print(f\"Intercept: {linreg.intercept_}\")\n",
    "\n",
    "cols = [*X_train_cont.columns, *ohe_col_names]\n",
    "coefs = pd.Series(linreg.coef_, index= cols)\n",
    "display(coefs.sort_values(ascending=False))"
   ]
  },
  {
   "cell_type": "code",
   "execution_count": 23,
   "metadata": {},
   "outputs": [
    {
     "name": "stdout",
     "output_type": "stream",
     "text": [
      "Total number of coefficients:  200\n",
      "Coefficients close to zero:  0\n"
     ]
    }
   ],
   "source": [
    "print(\"Total number of coefficients: \", len(linreg.coef_))\n",
    "print(\"Coefficients close to zero: \", sum(abs(linreg.coef_) < 10**(-10)))"
   ]
  },
  {
   "cell_type": "markdown",
   "metadata": {},
   "source": [
    "**Evaluate**\n",
    "\n",
    "- \n"
   ]
  },
  {
   "cell_type": "code",
   "execution_count": 24,
   "metadata": {},
   "outputs": [],
   "source": [
    "# Let's wrap up that coefficient exploration in a function\n",
    "\n",
    "def eval_coefficients(model, column_names):\n",
    "    '''\n",
    "    Prints an exploration \n",
    "    \n",
    "    Inputs:\n",
    "    model - a fit linear model (sklearn)\n",
    "    column_names - a list of feature names that matches the order passed into the model\n",
    "    \n",
    "    Outputs:\n",
    "    coefs - a Series, sorted by coefficient value\n",
    "    '''\n",
    "\n",
    "    print(\"Total number of coefficients: \", len(model.coef_))\n",
    "    print(\"Coefficients close to zero: \", sum(abs(model.coef_) < 10**(-10)))\n",
    "    print(f\"Intercept: {model.intercept_}\")\n",
    "    \n",
    "    coefs = pd.Series(model.coef_, index= column_names)\n",
    "    display(coefs.sort_values(ascending=False))\n",
    "    return coefs.sort_values(ascending=False)"
   ]
  },
  {
   "cell_type": "markdown",
   "metadata": {},
   "source": [
    "## Fitting Ridge and Lasso\n",
    "\n",
    "* https://scikit-learn.org/stable/modules/generated/sklearn.linear_model.Lasso.html\n",
    "* https://scikit-learn.org/stable/modules/generated/sklearn.linear_model.Ridge.html"
   ]
  },
  {
   "cell_type": "markdown",
   "metadata": {},
   "source": [
    "### LASSO"
   ]
  },
  {
   "cell_type": "code",
   "execution_count": 25,
   "metadata": {},
   "outputs": [
    {
     "name": "stdout",
     "output_type": "stream",
     "text": [
      "Train R2: 0.8068837772699294\n",
      "Test R2: 0.8310540526127361\n",
      "*****\n",
      "Train MSE: 1172494550.1426334\n",
      "Test MSE: 1183518574.588042\n",
      "*****\n",
      "Train RMSE: 34241.70775739191\n",
      "Test RMSE: 34402.304785988425\n"
     ]
    }
   ],
   "source": [
    "from sklearn.linear_model import Lasso\n",
    "\n",
    "lasso = Lasso() # Lasso is also known as the L1 norm \n",
    "lasso.fit(X_train_imputed_scaled, y_train)\n",
    "\n",
    "lasso_train_preds = lasso.predict(X_train_imputed_scaled)\n",
    "lasso_test_preds = lasso.predict(X_test_imputed_scaled)\n",
    "\n",
    "evaluate(y_train, lasso_train_preds, y_test, lasso_test_preds)"
   ]
  },
  {
   "cell_type": "code",
   "execution_count": 28,
   "metadata": {},
   "outputs": [
    {
     "name": "stdout",
     "output_type": "stream",
     "text": [
      "Train R2: 0.8897762191436047\n",
      "Test R2: 0.8664340095251808\n",
      "*****\n",
      "Train MSE: 669217637.5616094\n",
      "Test MSE: 935671042.1579182\n",
      "*****\n",
      "Train RMSE: 25869.24114777257\n",
      "Test RMSE: 30588.740447392047\n"
     ]
    }
   ],
   "source": [
    "lasso_v2 = Lasso(alpha=10) # adjusting HYPERPARAMETERS -- check documentation!\n",
    "lasso_v2.fit(X_train_all, y_train)\n",
    "\n",
    "lasso_train_preds_v2 = lasso_v2.predict(X_train_all)\n",
    "lasso_test_preds_v2 = lasso_v2.predict(X_test_all)\n",
    "\n",
    "evaluate(y_train, lasso_train_preds_v2, y_test, lasso_test_preds_v2)"
   ]
  },
  {
   "cell_type": "code",
   "execution_count": 30,
   "metadata": {},
   "outputs": [
    {
     "name": "stdout",
     "output_type": "stream",
     "text": [
      "Total number of coefficients:  200\n",
      "Coefficients close to zero:  43\n",
      "Intercept: 146759.36027736007\n"
     ]
    },
    {
     "data": {
      "text/plain": [
       "Neighborhood_StoneBr    57157.492559\n",
       "Exterior2nd_ImStucc     55679.078169\n",
       "Neighborhood_NoRidge    44416.754415\n",
       "Neighborhood_NridgHt    33752.371368\n",
       "BsmtQual_Ex             29560.086961\n",
       "                            ...     \n",
       "LotConfig_FR3          -19966.752901\n",
       "BldgType_TwnhsE        -21606.119697\n",
       "BldgType_Twnhs         -25148.112954\n",
       "LotShape_IR3           -32951.670440\n",
       "Exterior1st_ImStucc    -54391.221289\n",
       "Length: 200, dtype: float64"
      ]
     },
     "metadata": {},
     "output_type": "display_data"
    }
   ],
   "source": [
    "# Check Lasso Coefficients\n",
    "\n",
    "lasso_v2_coefs = eval_coefficients(lasso_v2, cols)"
   ]
  },
  {
   "cell_type": "markdown",
   "metadata": {},
   "source": [
    "### Ridge"
   ]
  },
  {
   "cell_type": "code",
   "execution_count": 32,
   "metadata": {
    "scrolled": true
   },
   "outputs": [
    {
     "name": "stdout",
     "output_type": "stream",
     "text": [
      "Train R2: 0.883048000456683\n",
      "Test R2: 0.8760128192381831\n",
      "*****\n",
      "Train MSE: 710067648.1462206\n",
      "Test MSE: 868568519.7647879\n",
      "*****\n",
      "Train RMSE: 26647.094553557254\n",
      "Test RMSE: 29471.486555055006\n"
     ]
    }
   ],
   "source": [
    "from sklearn.linear_model import Ridge\n",
    "\n",
    "ridge = Ridge(alpha=10) # Ridge is also known as the L2 norm\n",
    "ridge.fit(X_train_all, y_train)\n",
    "\n",
    "ridge_train_preds = ridge.predict(X_train_all)\n",
    "ridge_test_preds = ridge.predict(X_test_all)\n",
    "\n",
    "evaluate(y_train, ridge_train_preds, y_test, ridge_test_preds)"
   ]
  },
  {
   "cell_type": "code",
   "execution_count": 33,
   "metadata": {},
   "outputs": [
    {
     "name": "stdout",
     "output_type": "stream",
     "text": [
      "Total number of coefficients:  200\n",
      "Coefficients close to zero:  0\n",
      "Intercept: 175399.39871730757\n"
     ]
    },
    {
     "data": {
      "text/plain": [
       "Neighborhood_StoneBr    27849.943941\n",
       "Neighborhood_NoRidge    26235.823769\n",
       "BsmtQual_Ex             20035.972464\n",
       "KitchenQual_Ex          17702.579533\n",
       "Neighborhood_NridgHt    17238.299997\n",
       "                            ...     \n",
       "Neighborhood_Gilbert    -9310.450038\n",
       "HouseStyle_2Story       -9968.806704\n",
       "Neighborhood_Mitchel   -13108.277113\n",
       "LotShape_IR3           -14914.301134\n",
       "Neighborhood_Edwards   -16224.917892\n",
       "Length: 200, dtype: float64"
      ]
     },
     "metadata": {},
     "output_type": "display_data"
    }
   ],
   "source": [
    "# Check Ridge Coefficients\n",
    "\n",
    "ridge_coefs = eval_coefficients(ridge, cols)"
   ]
  },
  {
   "cell_type": "markdown",
   "metadata": {},
   "source": [
    "### Let's Discuss\n",
    "\n",
    "- \n"
   ]
  },
  {
   "cell_type": "markdown",
   "metadata": {},
   "source": [
    "## Ridge & Lasso: Other benefits\n",
    "\n",
    "### Ridge:\n",
    "* We can \"shrink down\" prediction variables effects instead of deleting/zeroing them\n",
    "* When you have features with high multicollinearity, the coefficients are automatically spread across them (you won't have redundancy)\n",
    "* Since includes all features it can be computationally expensive (for many variables)\n",
    "\n",
    "### Lasso:\n",
    "* When you have a lot of variables it performs feature selection for you!\n",
    "* Multicollinearity is also dealt with\n"
   ]
  },
  {
   "cell_type": "markdown",
   "metadata": {},
   "source": [
    "### Por que no los dos??\n",
    "\n",
    "Enter ElasticNet: https://scikit-learn.org/stable/modules/generated/sklearn.linear_model.ElasticNet.html"
   ]
  },
  {
   "cell_type": "code",
   "execution_count": null,
   "metadata": {},
   "outputs": [],
   "source": []
  }
 ],
 "metadata": {
  "kernelspec": {
   "display_name": "learn-env",
   "language": "python",
   "name": "learn-env"
  },
  "language_info": {
   "codemirror_mode": {
    "name": "ipython",
    "version": 3
   },
   "file_extension": ".py",
   "mimetype": "text/x-python",
   "name": "python",
   "nbconvert_exporter": "python",
   "pygments_lexer": "ipython3",
   "version": "3.8.5"
  }
 },
 "nbformat": 4,
 "nbformat_minor": 4
}
