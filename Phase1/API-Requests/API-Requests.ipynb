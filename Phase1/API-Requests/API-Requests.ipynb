{
 "cells": [
  {
   "cell_type": "markdown",
   "metadata": {
    "slideshow": {
     "slide_type": "slide"
    }
   },
   "source": [
    "# APIs - Gathering Data Using Requests"
   ]
  },
  {
   "cell_type": "markdown",
   "metadata": {
    "slideshow": {
     "slide_type": "slide"
    }
   },
   "source": [
    "## The Many Use Cases For APIs\n",
    "\n",
    "APIs can be used for many things - much more than just retrieving information. Twilio has an API that allows you to write a script to send text messages to people. GitHub has an API for creating new repositories. Many services have APIs allowing computers to automate tasks that a person might otherwise have to do through a website - whether uploading a photo to Flickr, searching for a company name in a state database, or getting a list of garbage collection times for a municipality."
   ]
  },
  {
   "cell_type": "markdown",
   "metadata": {
    "slideshow": {
     "slide_type": "slide"
    }
   },
   "source": [
    "## Limitations of APIs\n",
    "\n",
    "When working with APIs, there are some limitations you have to be aware of - especially relating to scope and scale.\n",
    "\n",
    "* **Scope** - Just because a company has an API and has information, it doesn't mean you can get all of the information you might want through their API\n",
    "\n",
    "* **Scale** - Some APIs are provided for free as a public service. Others you have to pay for, or allow you to perform activities (like sending a text message) that you pay for. Make sure that you know what the rate limits are and that your use case isn't going to need more API calls than you will be able to make.\n",
    "\n",
    "What else is good to know? **Every API is different!** There are some standards out there in terms of documentation and usage... but it's like the wild west - rapid expansion with few rules.\n",
    "\n",
    "With all that out of the way - Let's take a look at the `requests` library and its uses."
   ]
  },
  {
   "cell_type": "markdown",
   "metadata": {
    "slideshow": {
     "slide_type": "slide"
    }
   },
   "source": [
    "### \"Requests is the only Non-GMO HTTP library for Python, safe for human consumption.\"\n",
    "\n",
    "> \"Requests allows you to send organic, grass-fed HTTP/1.1 requests, without the need for manual labor.\"\n",
    "\n",
    "Straight from the `requests` [documentation](https://pypi.org/project/requests/)"
   ]
  },
  {
   "cell_type": "markdown",
   "metadata": {},
   "source": [
    "### Types of Requests\n",
    "\n",
    "We will mostly use GET requests in order to get data, but there are other options.\n",
    "\n",
    "![CRUD image from IntelliPaat](https://intellipaat.com/mediaFiles/2015/08/MongoDB-CRUD-operations.jpg)\n",
    "\n",
    "That's right - CRUD summarizes the kinds of requests you can make with most APIs. \n",
    "\n",
    "Let's say you are looking at an API for a car rental company like Hertz or Zipcar - the following different requests could generate these different responses:\n",
    "\n",
    "| Request               | Result                               | In CRUD Terms |\n",
    "| --------------------- | ------------------------------------ | ------------- |\n",
    "| GET /stores/          | User sees the list of stores         | Read          |\n",
    "| GET /rentals/         | User sees the history of car rentals | Read          |\n",
    "| POST /rentals/        | User rents a car                     | Create        |\n",
    "| PUT /rentals/{id}/    | User changes destination store       | Update        |\n",
    "| DELETE /rentals/{id}/ | User cancels the active car rental   | Delete        |\n"
   ]
  },
  {
   "cell_type": "markdown",
   "metadata": {},
   "source": [
    "### Let's get started!"
   ]
  },
  {
   "cell_type": "code",
   "execution_count": 1,
   "metadata": {
    "slideshow": {
     "slide_type": "slide"
    }
   },
   "outputs": [],
   "source": [
    "import requests"
   ]
  },
  {
   "cell_type": "code",
   "execution_count": 2,
   "metadata": {},
   "outputs": [],
   "source": [
    "# Don't already have the library? Uncomment the below code and install it locally\n",
    "#!pip install requests"
   ]
  },
  {
   "cell_type": "code",
   "execution_count": 3,
   "metadata": {},
   "outputs": [
    {
     "data": {
      "text/plain": [
       "requests.models.Response"
      ]
     },
     "execution_count": 3,
     "metadata": {},
     "output_type": "execute_result"
    }
   ],
   "source": [
    "# Create a GET request, then check the type of object\n",
    "\n",
    "r = requests.get('https://api.github.com/events') \n",
    "type(r)"
   ]
  },
  {
   "cell_type": "code",
   "execution_count": null,
   "metadata": {
    "scrolled": true
   },
   "outputs": [],
   "source": [
    "# So what does this look like?\n",
    "r.text"
   ]
  },
  {
   "cell_type": "markdown",
   "metadata": {},
   "source": [
    "![Oh good heavens gif, from gfycat](https://thumbs.gfycat.com/ColdAmbitiousDogwoodtwigborer-size_restricted.gif)"
   ]
  },
  {
   "cell_type": "markdown",
   "metadata": {
    "slideshow": {
     "slide_type": "slide"
    }
   },
   "source": [
    "Obviously you're never going to just scan that quickly for any data you need, we need to wrangle that response to make it usable.\n",
    "\n",
    "But first, let's look at some of the other attributes of `requests.models.Response` objects.\n",
    "\n",
    "We can check out all of the attributes [here](https://2.python-requests.org//en/v0.10.6/api/) in the documentation."
   ]
  },
  {
   "cell_type": "code",
   "execution_count": 5,
   "metadata": {},
   "outputs": [
    {
     "data": {
      "text/plain": [
       "{'Server': 'GitHub.com', 'Date': 'Thu, 25 Mar 2021 21:26:42 GMT', 'Content-Type': 'application/json; charset=utf-8', 'Cache-Control': 'public, max-age=60, s-maxage=60', 'Vary': 'Accept, Accept-Encoding, Accept, X-Requested-With', 'ETag': 'W/\"bd9b118d6caf86686d350b77879a33b5c44a42e3f24cf63f5b975fa893c1ef0d\"', 'Last-Modified': 'Thu, 25 Mar 2021 21:21:42 GMT', 'X-Poll-Interval': '60', 'X-GitHub-Media-Type': 'github.v3; format=json', 'Link': '<https://api.github.com/events?page=2>; rel=\"next\", <https://api.github.com/events?page=10>; rel=\"last\"', 'Access-Control-Expose-Headers': 'ETag, Link, Location, Retry-After, X-GitHub-OTP, X-RateLimit-Limit, X-RateLimit-Remaining, X-RateLimit-Used, X-RateLimit-Reset, X-OAuth-Scopes, X-Accepted-OAuth-Scopes, X-Poll-Interval, X-GitHub-Media-Type, Deprecation, Sunset', 'Access-Control-Allow-Origin': '*', 'Strict-Transport-Security': 'max-age=31536000; includeSubdomains; preload', 'X-Frame-Options': 'deny', 'X-Content-Type-Options': 'nosniff', 'X-XSS-Protection': '0', 'Referrer-Policy': 'origin-when-cross-origin, strict-origin-when-cross-origin', 'Content-Security-Policy': \"default-src 'none'\", 'Content-Encoding': 'gzip', 'X-RateLimit-Limit': '60', 'X-RateLimit-Remaining': '59', 'X-RateLimit-Reset': '1616711202', 'X-RateLimit-Used': '1', 'Accept-Ranges': 'bytes', 'Transfer-Encoding': 'chunked', 'X-GitHub-Request-Id': 'E544:6F38:144251:21C4C2:605D0012'}"
      ]
     },
     "execution_count": 5,
     "metadata": {},
     "output_type": "execute_result"
    }
   ],
   "source": [
    "# Another attribute, what does this show us?\n",
    "r.headers"
   ]
  },
  {
   "cell_type": "markdown",
   "metadata": {
    "slideshow": {
     "slide_type": "slide"
    }
   },
   "source": [
    "### Checking out the status of your request"
   ]
  },
  {
   "cell_type": "code",
   "execution_count": 6,
   "metadata": {},
   "outputs": [
    {
     "data": {
      "text/plain": [
       "200"
      ]
     },
     "execution_count": 6,
     "metadata": {},
     "output_type": "execute_result"
    }
   ],
   "source": [
    "# Another attribute\n",
    "r.status_code"
   ]
  },
  {
   "cell_type": "markdown",
   "metadata": {
    "slideshow": {
     "slide_type": "slide"
    }
   },
   "source": [
    "### [Types of status codes](https://http.cat/)\n",
    "\n",
    "1xx - Informational responses\n",
    "\n",
    "2xx - Success\n",
    "- 200 OK\n",
    "- 201 Created\n",
    "- 204 No Content\n",
    "\n",
    "3xx - Redirection\n",
    "\n",
    "- 301 Moved Permanently (permanent URL redirection)\n",
    "- 304 Not Modified (A conditional GET or HEAD request has been received and would have resulted in a 200 OK response if it were not for the fact that the condition evaluated to false.)\n",
    "\n",
    "4xx - Client errors\n",
    "\n",
    "- 400 Bad Request\n",
    "- 401 Unauthorized\n",
    "- 403 Forbidden\n",
    "- 404 Not Found\n",
    "\n",
    "5xx - Server errors\n",
    "\n",
    "- 500 Internal Server Error"
   ]
  },
  {
   "cell_type": "code",
   "execution_count": 7,
   "metadata": {
    "slideshow": {
     "slide_type": "slide"
    }
   },
   "outputs": [
    {
     "data": {
      "text/plain": [
       "404"
      ]
     },
     "execution_count": 7,
     "metadata": {},
     "output_type": "execute_result"
    }
   ],
   "source": [
    "# Get status code for a \"broken\" link\n",
    "\n",
    "r_broken = requests.get('https://api.github.com/fake-ending')\n",
    "r_broken.status_code"
   ]
  },
  {
   "cell_type": "markdown",
   "metadata": {
    "slideshow": {
     "slide_type": "slide"
    }
   },
   "source": [
    "Can also explictly ask for the returned format to be json as a method."
   ]
  },
  {
   "cell_type": "markdown",
   "metadata": {
    "slideshow": {
     "slide_type": "slide"
    }
   },
   "source": [
    "#### A note on errors and exceptions with the Requests library\n",
    "\n",
    "There are a number of exceptions and error codes you need to be familiar with when using the Requests library in Python.\n",
    "\n",
    "- The Requests library will raise a ConnectionError exception if there is a network problem like a DNS failure, or refused connection\n",
    "- These are rare, but with invalid HTTP responses, Requests will also raise an HTTPError exception\n",
    "- A Timeout exception will be raised if a request times out\n",
    "- If and when a request exceeds the preconfigured number of maximum redirections, then a TooManyRedirects exception will be raised"
   ]
  },
  {
   "cell_type": "code",
   "execution_count": null,
   "metadata": {
    "scrolled": false
   },
   "outputs": [],
   "source": [
    "# Going back to our working request - how does this look, compared to text?\n",
    "r.json()"
   ]
  },
  {
   "cell_type": "markdown",
   "metadata": {},
   "source": [
    "# Gotta Catch 'Em All! Using the Pokemon API\n",
    "\n",
    "https://pokeapi.co/\n",
    "\n",
    "Nice place to start because there's no login details or credentials to fuss with\n",
    "\n",
    "For now, just want to explore grabbing the Types of different Pokemon.\n",
    "\n",
    "Useful documentation links:\n",
    "- Pokemon endpoint: https://pokeapi.co/docs/v2#pokemon \n",
    "    - `https://pokeapi.co/api/v2/pokemon/{id or name}/`\n",
    "- Type endpoint: https://pokeapi.co/docs/v2#types\n",
    "    - `https://pokeapi.co/api/v2/type/{id or name}/`"
   ]
  },
  {
   "cell_type": "markdown",
   "metadata": {},
   "source": [
    "### Start by exploring the response from the Pokemon endpoint\n",
    "\n",
    "Going to start with Charmander, pokemon #4, cause he's one of my favorites\n",
    "\n",
    "<img src=\"https://i.pinimg.com/originals/e7/0e/d0/e70ed0b54f9230c56c2e3bd2958d68a4.jpg\" alt=\"adorable charmander found via pinterest\" width=150>\n",
    "\n",
    "[Image Source](https://www.pinterest.com/pin/419045940312305352/)"
   ]
  },
  {
   "cell_type": "code",
   "execution_count": 9,
   "metadata": {},
   "outputs": [],
   "source": [
    "# First, what endpoint url are we using?\n",
    "base_poke_url = 'https://pokeapi.co/api/v2/pokemon/'"
   ]
  },
  {
   "cell_type": "code",
   "execution_count": 10,
   "metadata": {},
   "outputs": [
    {
     "name": "stdout",
     "output_type": "stream",
     "text": [
      "https://pokeapi.co/api/v2/pokemon/4/\n"
     ]
    }
   ],
   "source": [
    "# How does that need to adapt for charmander?\n",
    "char_url = f\"{base_poke_url}4/\"\n",
    "\n",
    "print(char_url)"
   ]
  },
  {
   "cell_type": "code",
   "execution_count": 11,
   "metadata": {},
   "outputs": [
    {
     "data": {
      "text/plain": [
       "200"
      ]
     },
     "execution_count": 11,
     "metadata": {},
     "output_type": "execute_result"
    }
   ],
   "source": [
    "# Check the status code, will this work?\n",
    "requests.get(char_url).status_code"
   ]
  },
  {
   "cell_type": "code",
   "execution_count": 12,
   "metadata": {},
   "outputs": [],
   "source": [
    "# Now let's actually get the response\n",
    "char_resp = requests.get(char_url).json()"
   ]
  },
  {
   "cell_type": "code",
   "execution_count": 13,
   "metadata": {},
   "outputs": [
    {
     "data": {
      "text/plain": [
       "dict_keys(['abilities', 'base_experience', 'forms', 'game_indices', 'height', 'held_items', 'id', 'is_default', 'location_area_encounters', 'moves', 'name', 'order', 'past_types', 'species', 'sprites', 'stats', 'types', 'weight'])"
      ]
     },
     "execution_count": 13,
     "metadata": {},
     "output_type": "execute_result"
    }
   ],
   "source": [
    "# Let's check out some details about the response\n",
    "char_resp.keys()"
   ]
  },
  {
   "cell_type": "code",
   "execution_count": 14,
   "metadata": {},
   "outputs": [
    {
     "data": {
      "text/plain": [
       "4"
      ]
     },
     "execution_count": 14,
     "metadata": {},
     "output_type": "execute_result"
    }
   ],
   "source": [
    "char_resp['id']"
   ]
  },
  {
   "cell_type": "code",
   "execution_count": 15,
   "metadata": {},
   "outputs": [
    {
     "data": {
      "text/plain": [
       "'charmander'"
      ]
     },
     "execution_count": 15,
     "metadata": {},
     "output_type": "execute_result"
    }
   ],
   "source": [
    "char_resp['name']"
   ]
  },
  {
   "cell_type": "code",
   "execution_count": 16,
   "metadata": {
    "scrolled": true
   },
   "outputs": [
    {
     "data": {
      "text/plain": [
       "[{'slot': 1,\n",
       "  'type': {'name': 'fire', 'url': 'https://pokeapi.co/api/v2/type/10/'}}]"
      ]
     },
     "execution_count": 16,
     "metadata": {},
     "output_type": "execute_result"
    }
   ],
   "source": [
    "char_resp['types']"
   ]
  },
  {
   "cell_type": "markdown",
   "metadata": {},
   "source": [
    "#### Challenge!\n",
    "\n",
    "Let's write a function that, given a response from this API's pokemon endpoint, returns a list of the ID, name, primary type and secondary type for that pokemon."
   ]
  },
  {
   "cell_type": "code",
   "execution_count": 17,
   "metadata": {},
   "outputs": [],
   "source": [
    "def get_pokemon_details(poke_resp):\n",
    "    '''\n",
    "    inputs:\n",
    "    poke_resp - expects json/dict\n",
    "    \n",
    "    outputs: \n",
    "    list of id, pokemon name, primary type and secondary type \n",
    "    '''\n",
    "    # in case you forget to feed in the json format of the response\n",
    "    if not isinstance(poke_resp, dict):\n",
    "        poke_resp = poke_resp.json()\n",
    "    \n",
    "    poke_id = poke_resp['id']\n",
    "    \n",
    "    name = poke_resp['name']\n",
    "    \n",
    "    type_list = poke_resp['types']\n",
    "    \n",
    "    primary_type = type_list[0]['type']['name']\n",
    "    \n",
    "    if len(type_list) == 2:\n",
    "        secondary_type = type_list[1]['type']['name']\n",
    "    else:\n",
    "        secondary_type = \"None\"\n",
    "        \n",
    "    return [poke_id, name, primary_type, secondary_type]"
   ]
  },
  {
   "cell_type": "code",
   "execution_count": 18,
   "metadata": {},
   "outputs": [
    {
     "name": "stdout",
     "output_type": "stream",
     "text": [
      "[1, 4, 7]\n"
     ]
    }
   ],
   "source": [
    "# Let's test our function on the 3 original starter pokemon\n",
    "original_starter_ids = list(range(1,10, 3))\n",
    "print(original_starter_ids)"
   ]
  },
  {
   "cell_type": "code",
   "execution_count": 19,
   "metadata": {},
   "outputs": [
    {
     "name": "stdout",
     "output_type": "stream",
     "text": [
      "[1, 'bulbasaur', 'grass', 'poison']\n",
      "[4, 'charmander', 'fire', 'None']\n",
      "[7, 'squirtle', 'water', 'None']\n"
     ]
    }
   ],
   "source": [
    "for poke_id in original_starter_ids:\n",
    "    url = f\"{base_poke_url}{poke_id}/\"\n",
    "    resp = requests.get(url).json()\n",
    "    details = get_pokemon_details(resp)\n",
    "    print(details)"
   ]
  },
  {
   "cell_type": "markdown",
   "metadata": {},
   "source": [
    "### Moving to Pandas\n",
    "\n",
    "Let's get all of these details for all of the original 151 pokemon! And save them to a Pandas dataframe."
   ]
  },
  {
   "cell_type": "code",
   "execution_count": 20,
   "metadata": {},
   "outputs": [],
   "source": [
    "# Need to import panda\n",
    "import pandas as pd"
   ]
  },
  {
   "cell_type": "code",
   "execution_count": 21,
   "metadata": {},
   "outputs": [],
   "source": [
    "# Let's go ahead and define what our columns will be\n",
    "col_names = ['id', 'name', 'primary_type', 'secondary_type']"
   ]
  },
  {
   "cell_type": "code",
   "execution_count": 22,
   "metadata": {},
   "outputs": [
    {
     "data": {
      "text/plain": [
       "['id', 'name', 'primary_type', 'secondary_type']"
      ]
     },
     "execution_count": 22,
     "metadata": {},
     "output_type": "execute_result"
    }
   ],
   "source": [
    "col_names"
   ]
  },
  {
   "cell_type": "code",
   "execution_count": 23,
   "metadata": {},
   "outputs": [],
   "source": [
    "# Define a list of our 151 pokemon ids\n",
    "original_151 = list(range(1,152))"
   ]
  },
  {
   "cell_type": "markdown",
   "metadata": {},
   "source": [
    "So we're going to make 151 requests... don't want to overload the API endpoint! So let's use the time library to space out our requests."
   ]
  },
  {
   "cell_type": "code",
   "execution_count": 24,
   "metadata": {},
   "outputs": [],
   "source": [
    "import time"
   ]
  },
  {
   "cell_type": "code",
   "execution_count": 25,
   "metadata": {},
   "outputs": [],
   "source": [
    "# Easiest way to do this will be to have a list of lists, then concat them all\n",
    "\n",
    "# Define a blank list to capture all the pokemon details\n",
    "row_list = []\n",
    "\n",
    "# And then loop over our pokemon ids!\n",
    "for poke_id in original_151:\n",
    "    url = f\"{base_poke_url}{poke_id}/\"\n",
    "    poke_r = requests.get(url).json()\n",
    "    poke_row = get_pokemon_details(poke_r)\n",
    "    row_list.append(poke_row)\n",
    "    time.sleep(.5)\n",
    "    \n",
    "# Then, concat everything into one df\n",
    "# Reference: https://pandas.pydata.org/pandas-docs/stable/reference/api/pandas.DataFrame.append.html\n",
    "poke_df = pd.concat([pd.DataFrame([i], columns = col_names) for i in row_list], ignore_index=True)"
   ]
  },
  {
   "cell_type": "code",
   "execution_count": 26,
   "metadata": {},
   "outputs": [
    {
     "data": {
      "text/html": [
       "<div>\n",
       "<style scoped>\n",
       "    .dataframe tbody tr th:only-of-type {\n",
       "        vertical-align: middle;\n",
       "    }\n",
       "\n",
       "    .dataframe tbody tr th {\n",
       "        vertical-align: top;\n",
       "    }\n",
       "\n",
       "    .dataframe thead th {\n",
       "        text-align: right;\n",
       "    }\n",
       "</style>\n",
       "<table border=\"1\" class=\"dataframe\">\n",
       "  <thead>\n",
       "    <tr style=\"text-align: right;\">\n",
       "      <th></th>\n",
       "      <th>id</th>\n",
       "      <th>name</th>\n",
       "      <th>primary_type</th>\n",
       "      <th>secondary_type</th>\n",
       "    </tr>\n",
       "  </thead>\n",
       "  <tbody>\n",
       "    <tr>\n",
       "      <th>0</th>\n",
       "      <td>1</td>\n",
       "      <td>bulbasaur</td>\n",
       "      <td>grass</td>\n",
       "      <td>poison</td>\n",
       "    </tr>\n",
       "    <tr>\n",
       "      <th>1</th>\n",
       "      <td>2</td>\n",
       "      <td>ivysaur</td>\n",
       "      <td>grass</td>\n",
       "      <td>poison</td>\n",
       "    </tr>\n",
       "    <tr>\n",
       "      <th>2</th>\n",
       "      <td>3</td>\n",
       "      <td>venusaur</td>\n",
       "      <td>grass</td>\n",
       "      <td>poison</td>\n",
       "    </tr>\n",
       "    <tr>\n",
       "      <th>3</th>\n",
       "      <td>4</td>\n",
       "      <td>charmander</td>\n",
       "      <td>fire</td>\n",
       "      <td>None</td>\n",
       "    </tr>\n",
       "    <tr>\n",
       "      <th>4</th>\n",
       "      <td>5</td>\n",
       "      <td>charmeleon</td>\n",
       "      <td>fire</td>\n",
       "      <td>None</td>\n",
       "    </tr>\n",
       "    <tr>\n",
       "      <th>...</th>\n",
       "      <td>...</td>\n",
       "      <td>...</td>\n",
       "      <td>...</td>\n",
       "      <td>...</td>\n",
       "    </tr>\n",
       "    <tr>\n",
       "      <th>146</th>\n",
       "      <td>147</td>\n",
       "      <td>dratini</td>\n",
       "      <td>dragon</td>\n",
       "      <td>None</td>\n",
       "    </tr>\n",
       "    <tr>\n",
       "      <th>147</th>\n",
       "      <td>148</td>\n",
       "      <td>dragonair</td>\n",
       "      <td>dragon</td>\n",
       "      <td>None</td>\n",
       "    </tr>\n",
       "    <tr>\n",
       "      <th>148</th>\n",
       "      <td>149</td>\n",
       "      <td>dragonite</td>\n",
       "      <td>dragon</td>\n",
       "      <td>flying</td>\n",
       "    </tr>\n",
       "    <tr>\n",
       "      <th>149</th>\n",
       "      <td>150</td>\n",
       "      <td>mewtwo</td>\n",
       "      <td>psychic</td>\n",
       "      <td>None</td>\n",
       "    </tr>\n",
       "    <tr>\n",
       "      <th>150</th>\n",
       "      <td>151</td>\n",
       "      <td>mew</td>\n",
       "      <td>psychic</td>\n",
       "      <td>None</td>\n",
       "    </tr>\n",
       "  </tbody>\n",
       "</table>\n",
       "<p>151 rows × 4 columns</p>\n",
       "</div>"
      ],
      "text/plain": [
       "      id        name primary_type secondary_type\n",
       "0      1   bulbasaur        grass         poison\n",
       "1      2     ivysaur        grass         poison\n",
       "2      3    venusaur        grass         poison\n",
       "3      4  charmander         fire           None\n",
       "4      5  charmeleon         fire           None\n",
       "..   ...         ...          ...            ...\n",
       "146  147     dratini       dragon           None\n",
       "147  148   dragonair       dragon           None\n",
       "148  149   dragonite       dragon         flying\n",
       "149  150      mewtwo      psychic           None\n",
       "150  151         mew      psychic           None\n",
       "\n",
       "[151 rows x 4 columns]"
      ]
     },
     "execution_count": 26,
     "metadata": {},
     "output_type": "execute_result"
    }
   ],
   "source": [
    "poke_df"
   ]
  },
  {
   "cell_type": "code",
   "execution_count": 27,
   "metadata": {},
   "outputs": [
    {
     "data": {
      "image/png": "[encoded data removed]",
      "text/plain": [
       "<Figure size 720x576 with 1 Axes>"
      ]
     },
     "metadata": {
      "needs_background": "light"
     },
     "output_type": "display_data"
    }
   ],
   "source": [
    "# visualize it!\n",
    "import matplotlib.pyplot as plt\n",
    "\n",
    "primary_type_count = poke_df.groupby('primary_type').count()['id'].sort_values(ascending=False)\n",
    "\n",
    "plt.figure(figsize=(10,8))\n",
    "plt.bar(primary_type_count.index, primary_type_count)\n",
    "\n",
    "plt.title(\"Counts of Pokemon Primary Types\")\n",
    "plt.ylabel(\"Number of Pokemon\")\n",
    "plt.xlabel(\"Primary Type\")\n",
    "plt.xticks(rotation=45)\n",
    "\n",
    "plt.show()"
   ]
  },
  {
   "cell_type": "markdown",
   "metadata": {},
   "source": [
    "![monty python gif - and now for something completely different, from giphy](https://media.giphy.com/media/xznyPebL28X5u/giphy.gif)"
   ]
  },
  {
   "cell_type": "markdown",
   "metadata": {},
   "source": [
    "# Movie Time!\n",
    "\n",
    "Let's practice with an API that actually requires some authorization, in the form of an API Key!\n",
    "\n",
    "https://www.themoviedb.org/documentation/api"
   ]
  },
  {
   "cell_type": "markdown",
   "metadata": {},
   "source": [
    "# **NEVER EVER PUT YOUR API KEY ON GITHUB**\n",
    "\n",
    "Either create a json file with API keys in a different directory, or create a python file with the key saved as a variable that you can call. (There are even more options than that, but these are two easily-accessible ones)"
   ]
  },
  {
   "cell_type": "code",
   "execution_count": 33,
   "metadata": {},
   "outputs": [],
   "source": [
    "# Option 1: use a json file saved to some other folder outside your Git repo\n",
    "# You can make a secrets folder on your ~ directory!\n",
    "# In a new terminal window, create a file called api.json and save the path to that file\n",
    "\n",
    "# Need to import json to do this\n",
    "import json\n",
    "\n",
    "# Quick helper function to open the json\n",
    "def get_keys(path):\n",
    "    with open(path) as f:\n",
    "        return json.load(f)\n",
    "\n",
    "# Using the function to open and load all keys in that file \n",
    "api_keys = get_keys(\"/Users/lberlin/secrets/api.json\")\n",
    "\n",
    "# Setting the first (and only) value as a variable\n",
    "tmdb_key_1 = api_keys['tmdb_key']"
   ]
  },
  {
   "cell_type": "code",
   "execution_count": null,
   "metadata": {},
   "outputs": [],
   "source": [
    "# Option 2: use a python file that's been added to your .gitignore\n",
    "\n",
    "# In a new terminal window, create a file called keys.py in this repo\n",
    "# Save the api key as tmdb_api_key = \"[key]\"\n",
    "\n",
    "from keys import tmdb_api_key\n",
    "\n",
    "tmdb_key_2 = tmdb_api_key\n",
    "\n",
    "# Then let's edit our .gitignore file together"
   ]
  },
  {
   "cell_type": "markdown",
   "metadata": {},
   "source": [
    "Just as important! You may want to call the variable you've set to check that the API key is rendering correctly - but **be sure to clear the output of that cell** or else the output will show your key! And then if you push to GitHub it'll push that output to the internet which defeats the whole point of saving your key elsewhere!"
   ]
  },
  {
   "cell_type": "markdown",
   "metadata": {},
   "source": [
    "### And now, accessing movie data\n",
    "\n",
    "Documentation: https://developers.themoviedb.org/3"
   ]
  },
  {
   "cell_type": "code",
   "execution_count": 34,
   "metadata": {},
   "outputs": [],
   "source": [
    "# Default URL given as an example... let's see what it is!\n",
    "test_url = f\"https://api.themoviedb.org/3/movie/550?api_key={tmdb_key_1}\""
   ]
  },
  {
   "cell_type": "code",
   "execution_count": 35,
   "metadata": {},
   "outputs": [],
   "source": [
    "test_resp = requests.get(test_url).json()"
   ]
  },
  {
   "cell_type": "code",
   "execution_count": 36,
   "metadata": {},
   "outputs": [
    {
     "data": {
      "text/plain": [
       "dict_keys(['adult', 'backdrop_path', 'belongs_to_collection', 'budget', 'genres', 'homepage', 'id', 'imdb_id', 'original_language', 'original_title', 'overview', 'popularity', 'poster_path', 'production_companies', 'production_countries', 'release_date', 'revenue', 'runtime', 'spoken_languages', 'status', 'tagline', 'title', 'video', 'vote_average', 'vote_count'])"
      ]
     },
     "execution_count": 36,
     "metadata": {},
     "output_type": "execute_result"
    }
   ],
   "source": [
    "test_resp.keys()"
   ]
  },
  {
   "cell_type": "code",
   "execution_count": 37,
   "metadata": {},
   "outputs": [],
   "source": [
    "# Find similar movies to the previous id\n",
    "fight_club_id = 550\n",
    "similar_url = f\"https://api.themoviedb.org/3/movie/{fight_club_id}/similar?api_key={tmdb_key_1}\"\n",
    "similar_resp = requests.get(similar_url).json()"
   ]
  },
  {
   "cell_type": "code",
   "execution_count": 38,
   "metadata": {
    "scrolled": true
   },
   "outputs": [
    {
     "data": {
      "text/plain": [
       "dict_keys(['page', 'results', 'total_pages', 'total_results'])"
      ]
     },
     "execution_count": 38,
     "metadata": {},
     "output_type": "execute_result"
    }
   ],
   "source": [
    "similar_resp.keys()"
   ]
  },
  {
   "cell_type": "code",
   "execution_count": 39,
   "metadata": {},
   "outputs": [
    {
     "data": {
      "text/plain": [
       "401"
      ]
     },
     "execution_count": 39,
     "metadata": {},
     "output_type": "execute_result"
    }
   ],
   "source": [
    "# How many similar movies did it find?\n",
    "similar_resp['total_results']"
   ]
  },
  {
   "cell_type": "code",
   "execution_count": 40,
   "metadata": {},
   "outputs": [
    {
     "data": {
      "text/plain": [
       "20"
      ]
     },
     "execution_count": 40,
     "metadata": {},
     "output_type": "execute_result"
    }
   ],
   "source": [
    "# but is that the length of these results?\n",
    "len(similar_resp['results'])"
   ]
  },
  {
   "cell_type": "code",
   "execution_count": 41,
   "metadata": {
    "scrolled": true
   },
   "outputs": [
    {
     "name": "stdout",
     "output_type": "stream",
     "text": [
      "Blade Runner\n",
      "A Clockwork Orange\n",
      "The Darkest Minds\n",
      "The Giver\n",
      "Little Big Man\n",
      "Ready Player One\n",
      "The Host\n",
      "The Maze Runner\n",
      "Insurgent\n",
      "Divergent\n",
      "Ender's Game\n",
      "The Hunger Games: Mockingjay - Part 1\n",
      "The Hunger Games: Mockingjay - Part 2\n",
      "The Hunger Games: Catching Fire\n",
      "The Hunger Games\n",
      "Mortal Engines\n",
      "Maze Runner: The Scorch Trials\n",
      "Pride and Prejudice and Zombies\n",
      "Maze Runner: The Death Cure\n",
      "Allegiant\n"
     ]
    }
   ],
   "source": [
    "# what's in here?\n",
    "for res in similar_resp['results']:\n",
    "    print(res['title'])"
   ]
  },
  {
   "cell_type": "markdown",
   "metadata": {},
   "source": [
    "## Level Up: Another Way to Deal with APIs\n",
    "\n",
    "Check out [Postman](https://www.getpostman.com/)."
   ]
  },
  {
   "cell_type": "markdown",
   "metadata": {
    "slideshow": {
     "slide_type": "slide"
    }
   },
   "source": [
    "## Extra Credit: Further Practice\n",
    "\n",
    "There are many ways to access data through APIs! [Sodapy](https://github.com/xmunoz/sodapy) is the Python client for the Socrata Open Data API."
   ]
  },
  {
   "cell_type": "code",
   "execution_count": null,
   "metadata": {},
   "outputs": [],
   "source": [
    "# Install before running \n",
    "# !pip install sodapy"
   ]
  },
  {
   "cell_type": "markdown",
   "metadata": {
    "slideshow": {
     "slide_type": "-"
    }
   },
   "source": [
    "#### Tokenize yourself!\n",
    "\n",
    "https://dev.socrata.com/foundry/data.cityofnewyork.us/fhrw-4uyv\n",
    "\n",
    "Scroll down and click to sign up for an app token! No credit cards required!"
   ]
  },
  {
   "cell_type": "code",
   "execution_count": null,
   "metadata": {},
   "outputs": [],
   "source": [
    "token = '' # paste your token here \n",
    "\n",
    "import pandas as pd\n",
    "from sodapy import Socrata\n",
    "\n",
    "# Unauthenticated client only works with public data sets. Note 'None'\n",
    "# in place of application token, and no username or password:\n",
    "client = Socrata(\"data.cityofnewyork.us\", token)\n",
    "\n",
    "# Example authenticated client (needed for non-public datasets):\n",
    "# client = Socrata(data.cityofnewyork.us,\n",
    "#                  MyAppToken,\n",
    "#                  userame=\"user@example.com\",\n",
    "#                  password=\"AFakePassword\")\n",
    "\n",
    "# First 2000 results, returned as JSON from API / converted to Python list of\n",
    "# dictionaries by sodapy.\n",
    "results = client.get(\"fhrw-4uyv\", incident_zip = '11004', limit=1000)"
   ]
  },
  {
   "cell_type": "code",
   "execution_count": null,
   "metadata": {
    "slideshow": {
     "slide_type": "-"
    }
   },
   "outputs": [],
   "source": [
    "type(results)"
   ]
  },
  {
   "cell_type": "code",
   "execution_count": null,
   "metadata": {
    "slideshow": {
     "slide_type": "-"
    }
   },
   "outputs": [],
   "source": [
    "len(results)"
   ]
  },
  {
   "cell_type": "code",
   "execution_count": null,
   "metadata": {
    "slideshow": {
     "slide_type": "-"
    }
   },
   "outputs": [],
   "source": [
    "results[0]"
   ]
  },
  {
   "cell_type": "code",
   "execution_count": null,
   "metadata": {
    "slideshow": {
     "slide_type": "-"
    }
   },
   "outputs": [],
   "source": [
    "df_soda = pd.DataFrame(results)\n",
    "\n",
    "print(len(df_soda))\n",
    "print(df_soda.columns)\n",
    "df_soda.head()"
   ]
  },
  {
   "cell_type": "markdown",
   "metadata": {
    "slideshow": {
     "slide_type": "slide"
    }
   },
   "source": [
    "## Even Further Practice\n",
    "\n",
    "https://github.com/toddmotto/public-apis\n",
    "\n",
    "Find a buddy, find a free api, get a key, and do a GET. Try to transform the response into a dataframe."
   ]
  }
 ],
 "metadata": {
  "kernelspec": {
   "display_name": "Python 3 (ipykernel)",
   "language": "python",
   "name": "python3"
  },
  "language_info": {
   "codemirror_mode": {
    "name": "ipython",
    "version": 3
   },
   "file_extension": ".py",
   "mimetype": "text/x-python",
   "name": "python",
   "nbconvert_exporter": "python",
   "pygments_lexer": "ipython3",
   "version": "3.9.5"
  }
 },
 "nbformat": 4,
 "nbformat_minor": 2
}
