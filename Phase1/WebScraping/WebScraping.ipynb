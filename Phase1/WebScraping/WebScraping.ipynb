{
 "cells": [
  {
   "cell_type": "markdown",
   "metadata": {},
   "source": [
    "# Web-Scraping"
   ]
  },
  {
   "cell_type": "markdown",
   "metadata": {},
   "source": [
    "## Objectives\n",
    "\n",
    "- Parse HTML and CSS elements in webpages\n",
    "- Use requests and BeautifulSoup to get and process webpage contents\n",
    "- Use ethics when scraping websites"
   ]
  },
  {
   "cell_type": "markdown",
   "metadata": {},
   "source": [
    "Hopefully, you can get all the data you need easily and accessibly, and don't need to scour the web to find a source that will let you do your analysis. \n",
    "\n",
    "We'd all prefer one of these:\n",
    "\n",
    "<img src=\"images/other_options.png\" alt=\"image showcasing a downloadable csv, database connection, or API, but we're not always so lucky. not sure of image source, took from materials provided by another instructor\" width=650>\n",
    "\n",
    "But we're not always so lucky! Sometimes we need data that's less accessible."
   ]
  },
  {
   "cell_type": "markdown",
   "metadata": {},
   "source": [
    "Enter...\n",
    "\n",
    "<img alt=\"beautiful soup logo\" src=\"images/bs.png\" width=500>\n",
    "\n",
    "> \"You didn't write that awful page. You're just trying to get some data out of it. Beautiful Soup is here to help. Since 2004, it's been saving programmers hours or days of work on quick-turnaround screen scraping projects.\"\n",
    "\n",
    "- From the Beautiful Soup [documentation](https://www.crummy.com/software/BeautifulSoup/bs4/doc/#)"
   ]
  },
  {
   "cell_type": "markdown",
   "metadata": {
    "heading_collapsed": true,
    "hidden": true
   },
   "source": [
    "## The components of a web page"
   ]
  },
  {
   "cell_type": "markdown",
   "metadata": {
    "hidden": true
   },
   "source": [
    "When we visit a web page, our web browser makes a GET request to a web server. The server then sends back files that tell our browser how to render the page for us. The files fall into a few main types:\n",
    "\n",
    "- HTML — contain the main content of the page.\n",
    "- CSS — add styling to make the page look nicer.\n",
    "- JS — Javascript files add interactivity to web pages.\n",
    "- Images — image formats, such as JPG and PNG allow web pages to show pictures.\n",
    "\n",
    "After our browser receives all the files, it renders the page and displays it to us. There’s a lot that happens behind the scenes to render a page nicely, but we don’t need to worry about most of it when we’re web scraping."
   ]
  },
  {
   "cell_type": "markdown",
   "metadata": {
    "heading_collapsed": true,
    "hidden": true
   },
   "source": [
    "### HTML"
   ]
  },
  {
   "cell_type": "markdown",
   "metadata": {
    "hidden": true
   },
   "source": [
    "HyperText Markup Language (HTML) is a language that web pages are created in. HTML isn’t a programming language, like Python — instead, it’s a markup language that tells a browser how to layout content. Let’s take a quick tour through HTML so we know enough to scrape effectively."
   ]
  },
  {
   "cell_type": "markdown",
   "metadata": {
    "hidden": true
   },
   "source": [
    "HTML consists of elements called tags.\n",
    "\n",
    "Tags have commonly used names that depend on their position in relation to other tags:\n",
    "\n",
    "- **child** — a child is a tag inside another tag. \n",
    "- **parent** — a parent is the tag another tag is inside. \n",
    "- **sibling** — a sibiling is a tag that is nested inside the same parent as another tag. "
   ]
  },
  {
   "cell_type": "markdown",
   "metadata": {
    "hidden": true
   },
   "source": [
    "Here's som example HTML - which tags are parents? children? siblings?\n",
    "\n",
    "~~~html\n",
    "<html>\n",
    "  <head></head>\n",
    "  <body>\n",
    "    <p>\n",
    "      Here's a paragraph of text!\n",
    "      <a href=\"https://www.dataquest.io\">Learn Data Science Online</a>\n",
    "    </p>\n",
    "    <p>\n",
    "      Here's a second paragraph of text!\n",
    "      <a href=\"https://www.python.org\">Python</a>        \n",
    "    </p>\n",
    "  </body>\n",
    "</html>\n",
    "~~~"
   ]
  },
  {
   "cell_type": "markdown",
   "metadata": {},
   "source": [
    "## Grabbing Movie Data\n",
    "\n",
    "We might think about grabbing more movie data, as we gear up for our Phase 1 project which uses movie data. \n",
    "\n",
    "If we go to [IMDB](https://www.imdb.com/), their only API content seems expensive, and their advanced search results in tabular data that seems _extremely_ scrapable.\n",
    "\n",
    "**BUT** \n",
    "\n",
    "Enter - [conditions of use pages](https://www.imdb.com/conditions) ... and ethics!\n",
    "\n",
    "> \"**Robots and Screen Scraping:** You may not use data mining, robots, screen scraping, or similar data gathering and extraction tools on this site, except with our express written consent as noted below.\"\n"
   ]
  },
  {
   "cell_type": "markdown",
   "metadata": {},
   "source": [
    "### Ethical Concerns\n",
    "\n",
    "- Terms of Service (includes the conditions of use shown above)\n",
    "- Denial of Service Attacks\n",
    "- Confidentiality\n",
    "\n",
    "[This article](https://oxylabs.io/blog/is-web-scraping-legal) discusses legal issues related to web scraping.\n",
    "\n",
    "Key points: \n",
    "\n",
    "- Don't log into a site and then scrape what's only available after logging in - then, you're likely violating the Terms of Service (you can always check to see if that's actually covered in the ToS)\n",
    "- Don't scrape copyrighted data "
   ]
  },
  {
   "cell_type": "markdown",
   "metadata": {},
   "source": [
    "**Let's Discuss**\n",
    "\n",
    "- Do people scrape sites they shouldn't? Sure, all the time. But am I going to tell you to ignore conditions/terms of use? Absolutely not. Make good choices.\n",
    "\n",
    "_We are not lawyers - this does not constitute legal advice._"
   ]
  },
  {
   "cell_type": "markdown",
   "metadata": {},
   "source": [
    "Instead, let's scrape Wikipedia for movie data - Wikipedia has a very accessible Creative Commons license for use!\n",
    "\n",
    "Let's explore a few [years in film](https://en.wikipedia.org/wiki/Table_of_years_in_film).\n",
    "\n",
    "## Task: Grab the top 10 highest-grossing films for each year, 2000-2020"
   ]
  },
  {
   "cell_type": "markdown",
   "metadata": {},
   "source": [
    "### Imports\n",
    "\n",
    "Our goal is to collect data into a Pandas dataframe. Plus we're still working with websites, so we'll still need the requests library."
   ]
  },
  {
   "cell_type": "code",
   "execution_count": 1,
   "metadata": {},
   "outputs": [],
   "source": [
    "import pandas as pd\n",
    "import requests\n",
    "from bs4 import BeautifulSoup # note this odd import statement structure"
   ]
  },
  {
   "cell_type": "code",
   "execution_count": 2,
   "metadata": {},
   "outputs": [],
   "source": [
    "# we may also need lxml - https://lxml.de/index.html\n",
    "# helps process html or xml in python\n",
    "# !pip install lxml"
   ]
  },
  {
   "cell_type": "markdown",
   "metadata": {},
   "source": [
    "Test case - [the year 2000](https://en.wikipedia.org/wiki/2000_in_film)."
   ]
  },
  {
   "cell_type": "code",
   "execution_count": 3,
   "metadata": {},
   "outputs": [],
   "source": [
    "# Get the response from the website, using requests\n",
    "resp = requests.get(\"https://en.wikipedia.org/wiki/2000_in_film\")"
   ]
  },
  {
   "cell_type": "code",
   "execution_count": null,
   "metadata": {
    "scrolled": true
   },
   "outputs": [],
   "source": [
    "# Let's check out the text attribute of that response...\n",
    "resp.text\n",
    "# (ew)"
   ]
  },
  {
   "cell_type": "code",
   "execution_count": 5,
   "metadata": {},
   "outputs": [],
   "source": [
    "# And now... beautiful soup! Let's soup-ify that text attribute\n",
    "soup = BeautifulSoup(resp.text)"
   ]
  },
  {
   "cell_type": "code",
   "execution_count": null,
   "metadata": {
    "scrolled": true
   },
   "outputs": [],
   "source": [
    "# Can use a prettify function to pretty print\n",
    "print(soup.prettify())"
   ]
  },
  {
   "cell_type": "code",
   "execution_count": 7,
   "metadata": {},
   "outputs": [],
   "source": [
    "# Now we need to find the table we want in the soup - use .find()\n",
    "# Can pass a dictionary in the attributes argument\n",
    "table = soup.find('table', {'class':\"wikitable sortable\"})"
   ]
  },
  {
   "cell_type": "code",
   "execution_count": 8,
   "metadata": {
    "scrolled": true
   },
   "outputs": [
    {
     "data": {
      "text/plain": [
       "11"
      ]
     },
     "execution_count": 8,
     "metadata": {},
     "output_type": "execute_result"
    }
   ],
   "source": [
    "# Explore that result\n",
    "len(table.find_all('tr'))"
   ]
  },
  {
   "cell_type": "code",
   "execution_count": 9,
   "metadata": {},
   "outputs": [
    {
     "data": {
      "text/plain": [
       "['\\n1', 'Mission: Impossible 2', 'Paramount', '$546,388,105\\n']"
      ]
     },
     "execution_count": 9,
     "metadata": {},
     "output_type": "execute_result"
    }
   ],
   "source": [
    "# Check out the first real row in the table\n",
    "# Can use get_text as a method, then use string methods!\n",
    "table.find_all('tr')[1].get_text().split('\\n\\n')"
   ]
  },
  {
   "cell_type": "code",
   "execution_count": 10,
   "metadata": {},
   "outputs": [
    {
     "data": {
      "text/plain": [
       "['\\n10', 'What Lies Beneath', 'DreamWorks / Fox', '$291,420,351\\n']"
      ]
     },
     "execution_count": 10,
     "metadata": {},
     "output_type": "execute_result"
    }
   ],
   "source": [
    "# Check out the last row\n",
    "table.find_all('tr')[10].get_text().split('\\n\\n')"
   ]
  },
  {
   "cell_type": "code",
   "execution_count": 11,
   "metadata": {},
   "outputs": [
    {
     "data": {
      "text/plain": [
       "['Rank', 'Title', 'Distributor', 'Worldwide gross']"
      ]
     },
     "execution_count": 11,
     "metadata": {},
     "output_type": "execute_result"
    }
   ],
   "source": [
    "# Can make into a dataframe like we did with an API result\n",
    "# First need to define the columns\n",
    "columns = table.find_all('tr')[0].get_text().split('\\n')[1:5]\n",
    "columns"
   ]
  },
  {
   "cell_type": "code",
   "execution_count": 12,
   "metadata": {},
   "outputs": [
    {
     "data": {
      "text/plain": [
       "[['\\n1', 'Mission: Impossible 2', 'Paramount', '$546,388,105\\n'],\n",
       " ['\\n2', 'Gladiator', 'DreamWorks / Universal', '$460,583,960\\n'],\n",
       " ['\\n3', 'Cast Away', 'Fox / DreamWorks', '$429,632,142\\n'],\n",
       " ['\\n4', 'What Women Want', 'Paramount', '$374,111,707\\n'],\n",
       " ['\\n5', 'Dinosaur', 'Disney', '$349,822,765\\n'],\n",
       " ['\\n6', 'How the Grinch Stole Christmas', 'Universal', '$345,141,403\\n'],\n",
       " ['\\n7', 'Meet the Parents', 'Universal / DreamWorks', '$330,444,045\\n'],\n",
       " ['\\n8', 'The Perfect Storm', 'Warner Bros.', '$328,718,434\\n'],\n",
       " ['\\n9', 'X-Men', 'Fox', '$296,339,527\\n'],\n",
       " ['\\n10', 'What Lies Beneath', 'DreamWorks / Fox', '$291,420,351\\n']]"
      ]
     },
     "execution_count": 12,
     "metadata": {},
     "output_type": "execute_result"
    }
   ],
   "source": [
    "# Now let's make a list of rows for the data\n",
    "row_list = []\n",
    "for row in table.find_all('tr')[1:]:\n",
    "    row_list.append(row.get_text().split('\\n\\n'))\n",
    "    \n",
    "row_list"
   ]
  },
  {
   "cell_type": "code",
   "execution_count": 13,
   "metadata": {},
   "outputs": [
    {
     "data": {
      "text/html": [
       "<div>\n",
       "<style scoped>\n",
       "    .dataframe tbody tr th:only-of-type {\n",
       "        vertical-align: middle;\n",
       "    }\n",
       "\n",
       "    .dataframe tbody tr th {\n",
       "        vertical-align: top;\n",
       "    }\n",
       "\n",
       "    .dataframe thead th {\n",
       "        text-align: right;\n",
       "    }\n",
       "</style>\n",
       "<table border=\"1\" class=\"dataframe\">\n",
       "  <thead>\n",
       "    <tr style=\"text-align: right;\">\n",
       "      <th></th>\n",
       "      <th>Rank</th>\n",
       "      <th>Title</th>\n",
       "      <th>Distributor</th>\n",
       "      <th>Worldwide gross</th>\n",
       "    </tr>\n",
       "  </thead>\n",
       "  <tbody>\n",
       "    <tr>\n",
       "      <th>0</th>\n",
       "      <td>\\n1</td>\n",
       "      <td>Mission: Impossible 2</td>\n",
       "      <td>Paramount</td>\n",
       "      <td>$546,388,105\\n</td>\n",
       "    </tr>\n",
       "    <tr>\n",
       "      <th>1</th>\n",
       "      <td>\\n2</td>\n",
       "      <td>Gladiator</td>\n",
       "      <td>DreamWorks / Universal</td>\n",
       "      <td>$460,583,960\\n</td>\n",
       "    </tr>\n",
       "    <tr>\n",
       "      <th>2</th>\n",
       "      <td>\\n3</td>\n",
       "      <td>Cast Away</td>\n",
       "      <td>Fox / DreamWorks</td>\n",
       "      <td>$429,632,142\\n</td>\n",
       "    </tr>\n",
       "    <tr>\n",
       "      <th>3</th>\n",
       "      <td>\\n4</td>\n",
       "      <td>What Women Want</td>\n",
       "      <td>Paramount</td>\n",
       "      <td>$374,111,707\\n</td>\n",
       "    </tr>\n",
       "    <tr>\n",
       "      <th>4</th>\n",
       "      <td>\\n5</td>\n",
       "      <td>Dinosaur</td>\n",
       "      <td>Disney</td>\n",
       "      <td>$349,822,765\\n</td>\n",
       "    </tr>\n",
       "    <tr>\n",
       "      <th>5</th>\n",
       "      <td>\\n6</td>\n",
       "      <td>How the Grinch Stole Christmas</td>\n",
       "      <td>Universal</td>\n",
       "      <td>$345,141,403\\n</td>\n",
       "    </tr>\n",
       "    <tr>\n",
       "      <th>6</th>\n",
       "      <td>\\n7</td>\n",
       "      <td>Meet the Parents</td>\n",
       "      <td>Universal / DreamWorks</td>\n",
       "      <td>$330,444,045\\n</td>\n",
       "    </tr>\n",
       "    <tr>\n",
       "      <th>7</th>\n",
       "      <td>\\n8</td>\n",
       "      <td>The Perfect Storm</td>\n",
       "      <td>Warner Bros.</td>\n",
       "      <td>$328,718,434\\n</td>\n",
       "    </tr>\n",
       "    <tr>\n",
       "      <th>8</th>\n",
       "      <td>\\n9</td>\n",
       "      <td>X-Men</td>\n",
       "      <td>Fox</td>\n",
       "      <td>$296,339,527\\n</td>\n",
       "    </tr>\n",
       "    <tr>\n",
       "      <th>9</th>\n",
       "      <td>\\n10</td>\n",
       "      <td>What Lies Beneath</td>\n",
       "      <td>DreamWorks / Fox</td>\n",
       "      <td>$291,420,351\\n</td>\n",
       "    </tr>\n",
       "  </tbody>\n",
       "</table>\n",
       "</div>"
      ],
      "text/plain": [
       "   Rank                           Title             Distributor  \\\n",
       "0   \\n1           Mission: Impossible 2               Paramount   \n",
       "1   \\n2                       Gladiator  DreamWorks / Universal   \n",
       "2   \\n3                       Cast Away        Fox / DreamWorks   \n",
       "3   \\n4                 What Women Want               Paramount   \n",
       "4   \\n5                        Dinosaur                  Disney   \n",
       "5   \\n6  How the Grinch Stole Christmas               Universal   \n",
       "6   \\n7                Meet the Parents  Universal / DreamWorks   \n",
       "7   \\n8               The Perfect Storm            Warner Bros.   \n",
       "8   \\n9                           X-Men                     Fox   \n",
       "9  \\n10               What Lies Beneath        DreamWorks / Fox   \n",
       "\n",
       "  Worldwide gross  \n",
       "0  $546,388,105\\n  \n",
       "1  $460,583,960\\n  \n",
       "2  $429,632,142\\n  \n",
       "3  $374,111,707\\n  \n",
       "4  $349,822,765\\n  \n",
       "5  $345,141,403\\n  \n",
       "6  $330,444,045\\n  \n",
       "7  $328,718,434\\n  \n",
       "8  $296,339,527\\n  \n",
       "9  $291,420,351\\n  "
      ]
     },
     "execution_count": 13,
     "metadata": {},
     "output_type": "execute_result"
    }
   ],
   "source": [
    "df = pd.concat([pd.DataFrame([i], columns = columns) for i in row_list], ignore_index=True)\n",
    "df"
   ]
  },
  {
   "cell_type": "code",
   "execution_count": 14,
   "metadata": {},
   "outputs": [
    {
     "data": {
      "text/html": [
       "<div>\n",
       "<style scoped>\n",
       "    .dataframe tbody tr th:only-of-type {\n",
       "        vertical-align: middle;\n",
       "    }\n",
       "\n",
       "    .dataframe tbody tr th {\n",
       "        vertical-align: top;\n",
       "    }\n",
       "\n",
       "    .dataframe thead th {\n",
       "        text-align: right;\n",
       "    }\n",
       "</style>\n",
       "<table border=\"1\" class=\"dataframe\">\n",
       "  <thead>\n",
       "    <tr style=\"text-align: right;\">\n",
       "      <th></th>\n",
       "      <th>Rank</th>\n",
       "      <th>Title</th>\n",
       "      <th>Distributor</th>\n",
       "      <th>Worldwide gross</th>\n",
       "    </tr>\n",
       "  </thead>\n",
       "  <tbody>\n",
       "    <tr>\n",
       "      <th>0</th>\n",
       "      <td>1</td>\n",
       "      <td>Mission: Impossible 2</td>\n",
       "      <td>Paramount</td>\n",
       "      <td>$546,388,105</td>\n",
       "    </tr>\n",
       "    <tr>\n",
       "      <th>1</th>\n",
       "      <td>2</td>\n",
       "      <td>Gladiator</td>\n",
       "      <td>DreamWorks / Universal</td>\n",
       "      <td>$460,583,960</td>\n",
       "    </tr>\n",
       "    <tr>\n",
       "      <th>2</th>\n",
       "      <td>3</td>\n",
       "      <td>Cast Away</td>\n",
       "      <td>Fox / DreamWorks</td>\n",
       "      <td>$429,632,142</td>\n",
       "    </tr>\n",
       "    <tr>\n",
       "      <th>3</th>\n",
       "      <td>4</td>\n",
       "      <td>What Women Want</td>\n",
       "      <td>Paramount</td>\n",
       "      <td>$374,111,707</td>\n",
       "    </tr>\n",
       "    <tr>\n",
       "      <th>4</th>\n",
       "      <td>5</td>\n",
       "      <td>Dinosaur</td>\n",
       "      <td>Disney</td>\n",
       "      <td>$349,822,765</td>\n",
       "    </tr>\n",
       "    <tr>\n",
       "      <th>5</th>\n",
       "      <td>6</td>\n",
       "      <td>How the Grinch Stole Christmas</td>\n",
       "      <td>Universal</td>\n",
       "      <td>$345,141,403</td>\n",
       "    </tr>\n",
       "    <tr>\n",
       "      <th>6</th>\n",
       "      <td>7</td>\n",
       "      <td>Meet the Parents</td>\n",
       "      <td>Universal / DreamWorks</td>\n",
       "      <td>$330,444,045</td>\n",
       "    </tr>\n",
       "    <tr>\n",
       "      <th>7</th>\n",
       "      <td>8</td>\n",
       "      <td>The Perfect Storm</td>\n",
       "      <td>Warner Bros.</td>\n",
       "      <td>$328,718,434</td>\n",
       "    </tr>\n",
       "    <tr>\n",
       "      <th>8</th>\n",
       "      <td>9</td>\n",
       "      <td>X-Men</td>\n",
       "      <td>Fox</td>\n",
       "      <td>$296,339,527</td>\n",
       "    </tr>\n",
       "    <tr>\n",
       "      <th>9</th>\n",
       "      <td>10</td>\n",
       "      <td>What Lies Beneath</td>\n",
       "      <td>DreamWorks / Fox</td>\n",
       "      <td>$291,420,351</td>\n",
       "    </tr>\n",
       "  </tbody>\n",
       "</table>\n",
       "</div>"
      ],
      "text/plain": [
       "  Rank                           Title             Distributor Worldwide gross\n",
       "0    1           Mission: Impossible 2               Paramount    $546,388,105\n",
       "1    2                       Gladiator  DreamWorks / Universal    $460,583,960\n",
       "2    3                       Cast Away        Fox / DreamWorks    $429,632,142\n",
       "3    4                 What Women Want               Paramount    $374,111,707\n",
       "4    5                        Dinosaur                  Disney    $349,822,765\n",
       "5    6  How the Grinch Stole Christmas               Universal    $345,141,403\n",
       "6    7                Meet the Parents  Universal / DreamWorks    $330,444,045\n",
       "7    8               The Perfect Storm            Warner Bros.    $328,718,434\n",
       "8    9                           X-Men                     Fox    $296,339,527\n",
       "9   10               What Lies Beneath        DreamWorks / Fox    $291,420,351"
      ]
     },
     "execution_count": 14,
     "metadata": {},
     "output_type": "execute_result"
    }
   ],
   "source": [
    "# Clean that up... Using an applymap!\n",
    "df.applymap(lambda x: x.replace(\"\\n\", \"\"))"
   ]
  },
  {
   "cell_type": "markdown",
   "metadata": {},
   "source": [
    "**But wait...** there's a shortcut (thanks pandas)"
   ]
  },
  {
   "cell_type": "code",
   "execution_count": 15,
   "metadata": {
    "scrolled": true
   },
   "outputs": [
    {
     "data": {
      "text/html": [
       "<div>\n",
       "<style scoped>\n",
       "    .dataframe tbody tr th:only-of-type {\n",
       "        vertical-align: middle;\n",
       "    }\n",
       "\n",
       "    .dataframe tbody tr th {\n",
       "        vertical-align: top;\n",
       "    }\n",
       "\n",
       "    .dataframe thead th {\n",
       "        text-align: right;\n",
       "    }\n",
       "</style>\n",
       "<table border=\"1\" class=\"dataframe\">\n",
       "  <thead>\n",
       "    <tr style=\"text-align: right;\">\n",
       "      <th></th>\n",
       "      <th>Rank</th>\n",
       "      <th>Title</th>\n",
       "      <th>Distributor</th>\n",
       "      <th>Worldwide gross</th>\n",
       "    </tr>\n",
       "  </thead>\n",
       "  <tbody>\n",
       "    <tr>\n",
       "      <th>0</th>\n",
       "      <td>1</td>\n",
       "      <td>Mission: Impossible 2</td>\n",
       "      <td>Paramount</td>\n",
       "      <td>$546,388,105</td>\n",
       "    </tr>\n",
       "    <tr>\n",
       "      <th>1</th>\n",
       "      <td>2</td>\n",
       "      <td>Gladiator</td>\n",
       "      <td>DreamWorks  /  Universal</td>\n",
       "      <td>$460,583,960</td>\n",
       "    </tr>\n",
       "    <tr>\n",
       "      <th>2</th>\n",
       "      <td>3</td>\n",
       "      <td>Cast Away</td>\n",
       "      <td>Fox  / DreamWorks</td>\n",
       "      <td>$429,632,142</td>\n",
       "    </tr>\n",
       "    <tr>\n",
       "      <th>3</th>\n",
       "      <td>4</td>\n",
       "      <td>What Women Want</td>\n",
       "      <td>Paramount</td>\n",
       "      <td>$374,111,707</td>\n",
       "    </tr>\n",
       "    <tr>\n",
       "      <th>4</th>\n",
       "      <td>5</td>\n",
       "      <td>Dinosaur</td>\n",
       "      <td>Disney</td>\n",
       "      <td>$349,822,765</td>\n",
       "    </tr>\n",
       "    <tr>\n",
       "      <th>5</th>\n",
       "      <td>6</td>\n",
       "      <td>How the Grinch Stole Christmas</td>\n",
       "      <td>Universal</td>\n",
       "      <td>$345,141,403</td>\n",
       "    </tr>\n",
       "    <tr>\n",
       "      <th>6</th>\n",
       "      <td>7</td>\n",
       "      <td>Meet the Parents</td>\n",
       "      <td>Universal / DreamWorks</td>\n",
       "      <td>$330,444,045</td>\n",
       "    </tr>\n",
       "    <tr>\n",
       "      <th>7</th>\n",
       "      <td>8</td>\n",
       "      <td>The Perfect Storm</td>\n",
       "      <td>Warner Bros.</td>\n",
       "      <td>$328,718,434</td>\n",
       "    </tr>\n",
       "    <tr>\n",
       "      <th>8</th>\n",
       "      <td>9</td>\n",
       "      <td>X-Men</td>\n",
       "      <td>Fox</td>\n",
       "      <td>$296,339,527</td>\n",
       "    </tr>\n",
       "    <tr>\n",
       "      <th>9</th>\n",
       "      <td>10</td>\n",
       "      <td>What Lies Beneath</td>\n",
       "      <td>DreamWorks / Fox</td>\n",
       "      <td>$291,420,351</td>\n",
       "    </tr>\n",
       "  </tbody>\n",
       "</table>\n",
       "</div>"
      ],
      "text/plain": [
       "   Rank                           Title               Distributor  \\\n",
       "0     1           Mission: Impossible 2                 Paramount   \n",
       "1     2                       Gladiator  DreamWorks  /  Universal   \n",
       "2     3                       Cast Away         Fox  / DreamWorks   \n",
       "3     4                 What Women Want                 Paramount   \n",
       "4     5                        Dinosaur                    Disney   \n",
       "5     6  How the Grinch Stole Christmas                 Universal   \n",
       "6     7                Meet the Parents    Universal / DreamWorks   \n",
       "7     8               The Perfect Storm              Warner Bros.   \n",
       "8     9                           X-Men                       Fox   \n",
       "9    10               What Lies Beneath          DreamWorks / Fox   \n",
       "\n",
       "  Worldwide gross  \n",
       "0    $546,388,105  \n",
       "1    $460,583,960  \n",
       "2    $429,632,142  \n",
       "3    $374,111,707  \n",
       "4    $349,822,765  \n",
       "5    $345,141,403  \n",
       "6    $330,444,045  \n",
       "7    $328,718,434  \n",
       "8    $296,339,527  \n",
       "9    $291,420,351  "
      ]
     },
     "execution_count": 15,
     "metadata": {},
     "output_type": "execute_result"
    }
   ],
   "source": [
    "# Check out the read_html method\n",
    "# Note - pandas likes the prettify objects better\n",
    "pd.read_html(table.prettify())[0]"
   ]
  },
  {
   "cell_type": "code",
   "execution_count": 16,
   "metadata": {},
   "outputs": [
    {
     "data": {
      "text/html": [
       "<div>\n",
       "<style scoped>\n",
       "    .dataframe tbody tr th:only-of-type {\n",
       "        vertical-align: middle;\n",
       "    }\n",
       "\n",
       "    .dataframe tbody tr th {\n",
       "        vertical-align: top;\n",
       "    }\n",
       "\n",
       "    .dataframe thead th {\n",
       "        text-align: right;\n",
       "    }\n",
       "</style>\n",
       "<table border=\"1\" class=\"dataframe\">\n",
       "  <thead>\n",
       "    <tr style=\"text-align: right;\">\n",
       "      <th></th>\n",
       "      <th>Rank</th>\n",
       "      <th>Title</th>\n",
       "      <th>Distributor</th>\n",
       "      <th>Worldwide gross</th>\n",
       "    </tr>\n",
       "  </thead>\n",
       "  <tbody>\n",
       "    <tr>\n",
       "      <th>0</th>\n",
       "      <td>1</td>\n",
       "      <td>Mission: Impossible 2</td>\n",
       "      <td>Paramount</td>\n",
       "      <td>$546,388,105</td>\n",
       "    </tr>\n",
       "    <tr>\n",
       "      <th>1</th>\n",
       "      <td>2</td>\n",
       "      <td>Gladiator</td>\n",
       "      <td>DreamWorks  /  Universal</td>\n",
       "      <td>$460,583,960</td>\n",
       "    </tr>\n",
       "    <tr>\n",
       "      <th>2</th>\n",
       "      <td>3</td>\n",
       "      <td>Cast Away</td>\n",
       "      <td>Fox  / DreamWorks</td>\n",
       "      <td>$429,632,142</td>\n",
       "    </tr>\n",
       "    <tr>\n",
       "      <th>3</th>\n",
       "      <td>4</td>\n",
       "      <td>What Women Want</td>\n",
       "      <td>Paramount</td>\n",
       "      <td>$374,111,707</td>\n",
       "    </tr>\n",
       "    <tr>\n",
       "      <th>4</th>\n",
       "      <td>5</td>\n",
       "      <td>Dinosaur</td>\n",
       "      <td>Disney</td>\n",
       "      <td>$349,822,765</td>\n",
       "    </tr>\n",
       "    <tr>\n",
       "      <th>5</th>\n",
       "      <td>6</td>\n",
       "      <td>How the Grinch Stole Christmas</td>\n",
       "      <td>Universal</td>\n",
       "      <td>$345,141,403</td>\n",
       "    </tr>\n",
       "    <tr>\n",
       "      <th>6</th>\n",
       "      <td>7</td>\n",
       "      <td>Meet the Parents</td>\n",
       "      <td>Universal / DreamWorks</td>\n",
       "      <td>$330,444,045</td>\n",
       "    </tr>\n",
       "    <tr>\n",
       "      <th>7</th>\n",
       "      <td>8</td>\n",
       "      <td>The Perfect Storm</td>\n",
       "      <td>Warner Bros.</td>\n",
       "      <td>$328,718,434</td>\n",
       "    </tr>\n",
       "    <tr>\n",
       "      <th>8</th>\n",
       "      <td>9</td>\n",
       "      <td>X-Men</td>\n",
       "      <td>Fox</td>\n",
       "      <td>$296,339,527</td>\n",
       "    </tr>\n",
       "    <tr>\n",
       "      <th>9</th>\n",
       "      <td>10</td>\n",
       "      <td>What Lies Beneath</td>\n",
       "      <td>DreamWorks / Fox</td>\n",
       "      <td>$291,420,351</td>\n",
       "    </tr>\n",
       "  </tbody>\n",
       "</table>\n",
       "</div>"
      ],
      "text/plain": [
       "   Rank                           Title               Distributor  \\\n",
       "0     1           Mission: Impossible 2                 Paramount   \n",
       "1     2                       Gladiator  DreamWorks  /  Universal   \n",
       "2     3                       Cast Away         Fox  / DreamWorks   \n",
       "3     4                 What Women Want                 Paramount   \n",
       "4     5                        Dinosaur                    Disney   \n",
       "5     6  How the Grinch Stole Christmas                 Universal   \n",
       "6     7                Meet the Parents    Universal / DreamWorks   \n",
       "7     8               The Perfect Storm              Warner Bros.   \n",
       "8     9                           X-Men                       Fox   \n",
       "9    10               What Lies Beneath          DreamWorks / Fox   \n",
       "\n",
       "  Worldwide gross  \n",
       "0    $546,388,105  \n",
       "1    $460,583,960  \n",
       "2    $429,632,142  \n",
       "3    $374,111,707  \n",
       "4    $349,822,765  \n",
       "5    $345,141,403  \n",
       "6    $330,444,045  \n",
       "7    $328,718,434  \n",
       "8    $296,339,527  \n",
       "9    $291,420,351  "
      ]
     },
     "execution_count": 16,
     "metadata": {},
     "output_type": "execute_result"
    }
   ],
   "source": [
    "df = pd.read_html(table.prettify())[0]\n",
    "df"
   ]
  },
  {
   "cell_type": "code",
   "execution_count": 17,
   "metadata": {},
   "outputs": [],
   "source": [
    "# Can add a column saying which year this ranking is from\n",
    "df['Year'] = 2000"
   ]
  },
  {
   "cell_type": "code",
   "execution_count": 18,
   "metadata": {},
   "outputs": [
    {
     "data": {
      "text/html": [
       "<div>\n",
       "<style scoped>\n",
       "    .dataframe tbody tr th:only-of-type {\n",
       "        vertical-align: middle;\n",
       "    }\n",
       "\n",
       "    .dataframe tbody tr th {\n",
       "        vertical-align: top;\n",
       "    }\n",
       "\n",
       "    .dataframe thead th {\n",
       "        text-align: right;\n",
       "    }\n",
       "</style>\n",
       "<table border=\"1\" class=\"dataframe\">\n",
       "  <thead>\n",
       "    <tr style=\"text-align: right;\">\n",
       "      <th></th>\n",
       "      <th>Rank</th>\n",
       "      <th>Title</th>\n",
       "      <th>Distributor</th>\n",
       "      <th>Worldwide gross</th>\n",
       "      <th>Year</th>\n",
       "    </tr>\n",
       "  </thead>\n",
       "  <tbody>\n",
       "    <tr>\n",
       "      <th>0</th>\n",
       "      <td>1</td>\n",
       "      <td>Mission: Impossible 2</td>\n",
       "      <td>Paramount</td>\n",
       "      <td>$546,388,105</td>\n",
       "      <td>2000</td>\n",
       "    </tr>\n",
       "    <tr>\n",
       "      <th>1</th>\n",
       "      <td>2</td>\n",
       "      <td>Gladiator</td>\n",
       "      <td>DreamWorks  /  Universal</td>\n",
       "      <td>$460,583,960</td>\n",
       "      <td>2000</td>\n",
       "    </tr>\n",
       "    <tr>\n",
       "      <th>2</th>\n",
       "      <td>3</td>\n",
       "      <td>Cast Away</td>\n",
       "      <td>Fox  / DreamWorks</td>\n",
       "      <td>$429,632,142</td>\n",
       "      <td>2000</td>\n",
       "    </tr>\n",
       "    <tr>\n",
       "      <th>3</th>\n",
       "      <td>4</td>\n",
       "      <td>What Women Want</td>\n",
       "      <td>Paramount</td>\n",
       "      <td>$374,111,707</td>\n",
       "      <td>2000</td>\n",
       "    </tr>\n",
       "    <tr>\n",
       "      <th>4</th>\n",
       "      <td>5</td>\n",
       "      <td>Dinosaur</td>\n",
       "      <td>Disney</td>\n",
       "      <td>$349,822,765</td>\n",
       "      <td>2000</td>\n",
       "    </tr>\n",
       "    <tr>\n",
       "      <th>5</th>\n",
       "      <td>6</td>\n",
       "      <td>How the Grinch Stole Christmas</td>\n",
       "      <td>Universal</td>\n",
       "      <td>$345,141,403</td>\n",
       "      <td>2000</td>\n",
       "    </tr>\n",
       "    <tr>\n",
       "      <th>6</th>\n",
       "      <td>7</td>\n",
       "      <td>Meet the Parents</td>\n",
       "      <td>Universal / DreamWorks</td>\n",
       "      <td>$330,444,045</td>\n",
       "      <td>2000</td>\n",
       "    </tr>\n",
       "    <tr>\n",
       "      <th>7</th>\n",
       "      <td>8</td>\n",
       "      <td>The Perfect Storm</td>\n",
       "      <td>Warner Bros.</td>\n",
       "      <td>$328,718,434</td>\n",
       "      <td>2000</td>\n",
       "    </tr>\n",
       "    <tr>\n",
       "      <th>8</th>\n",
       "      <td>9</td>\n",
       "      <td>X-Men</td>\n",
       "      <td>Fox</td>\n",
       "      <td>$296,339,527</td>\n",
       "      <td>2000</td>\n",
       "    </tr>\n",
       "    <tr>\n",
       "      <th>9</th>\n",
       "      <td>10</td>\n",
       "      <td>What Lies Beneath</td>\n",
       "      <td>DreamWorks / Fox</td>\n",
       "      <td>$291,420,351</td>\n",
       "      <td>2000</td>\n",
       "    </tr>\n",
       "  </tbody>\n",
       "</table>\n",
       "</div>"
      ],
      "text/plain": [
       "   Rank                           Title               Distributor  \\\n",
       "0     1           Mission: Impossible 2                 Paramount   \n",
       "1     2                       Gladiator  DreamWorks  /  Universal   \n",
       "2     3                       Cast Away         Fox  / DreamWorks   \n",
       "3     4                 What Women Want                 Paramount   \n",
       "4     5                        Dinosaur                    Disney   \n",
       "5     6  How the Grinch Stole Christmas                 Universal   \n",
       "6     7                Meet the Parents    Universal / DreamWorks   \n",
       "7     8               The Perfect Storm              Warner Bros.   \n",
       "8     9                           X-Men                       Fox   \n",
       "9    10               What Lies Beneath          DreamWorks / Fox   \n",
       "\n",
       "  Worldwide gross  Year  \n",
       "0    $546,388,105  2000  \n",
       "1    $460,583,960  2000  \n",
       "2    $429,632,142  2000  \n",
       "3    $374,111,707  2000  \n",
       "4    $349,822,765  2000  \n",
       "5    $345,141,403  2000  \n",
       "6    $330,444,045  2000  \n",
       "7    $328,718,434  2000  \n",
       "8    $296,339,527  2000  \n",
       "9    $291,420,351  2000  "
      ]
     },
     "execution_count": 18,
     "metadata": {},
     "output_type": "execute_result"
    }
   ],
   "source": [
    "df"
   ]
  },
  {
   "cell_type": "markdown",
   "metadata": {},
   "source": [
    "### Now Loop It!"
   ]
  },
  {
   "cell_type": "code",
   "execution_count": 19,
   "metadata": {},
   "outputs": [],
   "source": [
    "# My preference - create a list of dataframes, then concat afterwards\n",
    "# Are there other ways to create one big df from this? OF COURSE!\n",
    "\n",
    "list_of_dfs = []\n",
    "\n",
    "for year in range(2000, 2021):\n",
    "    url = f\"https://en.wikipedia.org/wiki/{year}_in_film\"\n",
    "    resp = requests.get(url).text\n",
    "    soup = BeautifulSoup(resp)\n",
    "    table = soup.find('table', {'class':\"wikitable sortable\"})\n",
    "    df = pd.read_html(table.prettify())[0]\n",
    "    df['Year'] = year\n",
    "    list_of_dfs.append(df)\n",
    "    # Only 20 things... not going to worry about using time to pause requests"
   ]
  },
  {
   "cell_type": "code",
   "execution_count": 20,
   "metadata": {},
   "outputs": [
    {
     "data": {
      "text/html": [
       "<div>\n",
       "<style scoped>\n",
       "    .dataframe tbody tr th:only-of-type {\n",
       "        vertical-align: middle;\n",
       "    }\n",
       "\n",
       "    .dataframe tbody tr th {\n",
       "        vertical-align: top;\n",
       "    }\n",
       "\n",
       "    .dataframe thead th {\n",
       "        text-align: right;\n",
       "    }\n",
       "</style>\n",
       "<table border=\"1\" class=\"dataframe\">\n",
       "  <thead>\n",
       "    <tr style=\"text-align: right;\">\n",
       "      <th></th>\n",
       "      <th>Rank</th>\n",
       "      <th>Title</th>\n",
       "      <th>Distributor</th>\n",
       "      <th>Worldwide gross</th>\n",
       "      <th>Year</th>\n",
       "    </tr>\n",
       "  </thead>\n",
       "  <tbody>\n",
       "    <tr>\n",
       "      <th>0</th>\n",
       "      <td>1</td>\n",
       "      <td>Demon Slayer: Kimetsu no Yaiba – The Movie: Mu...</td>\n",
       "      <td>Toho</td>\n",
       "      <td>$506,523,013  [4]</td>\n",
       "      <td>2020</td>\n",
       "    </tr>\n",
       "    <tr>\n",
       "      <th>1</th>\n",
       "      <td>2</td>\n",
       "      <td>The Eight Hundred</td>\n",
       "      <td>CMC Pictures</td>\n",
       "      <td>$461,421,559  [5]</td>\n",
       "      <td>2020</td>\n",
       "    </tr>\n",
       "    <tr>\n",
       "      <th>2</th>\n",
       "      <td>3</td>\n",
       "      <td>My People, My Homeland</td>\n",
       "      <td>China Lion</td>\n",
       "      <td>$433,241,288  [6]</td>\n",
       "      <td>2020</td>\n",
       "    </tr>\n",
       "    <tr>\n",
       "      <th>3</th>\n",
       "      <td>4</td>\n",
       "      <td>Bad Boys for Life</td>\n",
       "      <td>Sony Pictures</td>\n",
       "      <td>$426,505,244  [7]</td>\n",
       "      <td>2020</td>\n",
       "    </tr>\n",
       "    <tr>\n",
       "      <th>4</th>\n",
       "      <td>5</td>\n",
       "      <td>Tenet</td>\n",
       "      <td>Warner Bros.</td>\n",
       "      <td>$363,656,624</td>\n",
       "      <td>2020</td>\n",
       "    </tr>\n",
       "    <tr>\n",
       "      <th>5</th>\n",
       "      <td>6</td>\n",
       "      <td>Sonic the Hedgehog</td>\n",
       "      <td>Paramount</td>\n",
       "      <td>$319,715,683</td>\n",
       "      <td>2020</td>\n",
       "    </tr>\n",
       "    <tr>\n",
       "      <th>6</th>\n",
       "      <td>7</td>\n",
       "      <td>Dolittle</td>\n",
       "      <td>Universal</td>\n",
       "      <td>$251,409,960</td>\n",
       "      <td>2020</td>\n",
       "    </tr>\n",
       "    <tr>\n",
       "      <th>7</th>\n",
       "      <td>8</td>\n",
       "      <td>Jiang Ziya</td>\n",
       "      <td>Beijing enlight</td>\n",
       "      <td>$243,883,429</td>\n",
       "      <td>2020</td>\n",
       "    </tr>\n",
       "    <tr>\n",
       "      <th>8</th>\n",
       "      <td>9</td>\n",
       "      <td>A Little Red Flower</td>\n",
       "      <td>HG Entertainment</td>\n",
       "      <td>$238,600,000  [8]  [9]</td>\n",
       "      <td>2020</td>\n",
       "    </tr>\n",
       "    <tr>\n",
       "      <th>9</th>\n",
       "      <td>10</td>\n",
       "      <td>Shock Wave 2</td>\n",
       "      <td>Universe Films</td>\n",
       "      <td>$226,400,000  [a]</td>\n",
       "      <td>2020</td>\n",
       "    </tr>\n",
       "  </tbody>\n",
       "</table>\n",
       "</div>"
      ],
      "text/plain": [
       "   Rank                                              Title       Distributor  \\\n",
       "0     1  Demon Slayer: Kimetsu no Yaiba – The Movie: Mu...              Toho   \n",
       "1     2                                  The Eight Hundred      CMC Pictures   \n",
       "2     3                             My People, My Homeland        China Lion   \n",
       "3     4                                  Bad Boys for Life     Sony Pictures   \n",
       "4     5                                              Tenet      Warner Bros.   \n",
       "5     6                                 Sonic the Hedgehog         Paramount   \n",
       "6     7                                           Dolittle         Universal   \n",
       "7     8                                         Jiang Ziya   Beijing enlight   \n",
       "8     9                                A Little Red Flower  HG Entertainment   \n",
       "9    10                                       Shock Wave 2    Universe Films   \n",
       "\n",
       "          Worldwide gross  Year  \n",
       "0       $506,523,013  [4]  2020  \n",
       "1       $461,421,559  [5]  2020  \n",
       "2       $433,241,288  [6]  2020  \n",
       "3       $426,505,244  [7]  2020  \n",
       "4            $363,656,624  2020  \n",
       "5            $319,715,683  2020  \n",
       "6            $251,409,960  2020  \n",
       "7            $243,883,429  2020  \n",
       "8  $238,600,000  [8]  [9]  2020  \n",
       "9       $226,400,000  [a]  2020  "
      ]
     },
     "execution_count": 20,
     "metadata": {},
     "output_type": "execute_result"
    }
   ],
   "source": [
    "# Check out the last one\n",
    "list_of_dfs[20]"
   ]
  },
  {
   "cell_type": "code",
   "execution_count": 21,
   "metadata": {},
   "outputs": [
    {
     "data": {
      "text/html": [
       "<div>\n",
       "<style scoped>\n",
       "    .dataframe tbody tr th:only-of-type {\n",
       "        vertical-align: middle;\n",
       "    }\n",
       "\n",
       "    .dataframe tbody tr th {\n",
       "        vertical-align: top;\n",
       "    }\n",
       "\n",
       "    .dataframe thead th {\n",
       "        text-align: right;\n",
       "    }\n",
       "</style>\n",
       "<table border=\"1\" class=\"dataframe\">\n",
       "  <thead>\n",
       "    <tr style=\"text-align: right;\">\n",
       "      <th></th>\n",
       "      <th>Rank</th>\n",
       "      <th>Title</th>\n",
       "      <th>Distributor</th>\n",
       "      <th>Worldwide gross</th>\n",
       "      <th>Year</th>\n",
       "      <th>Distributor(s)</th>\n",
       "    </tr>\n",
       "  </thead>\n",
       "  <tbody>\n",
       "    <tr>\n",
       "      <th>0</th>\n",
       "      <td>1</td>\n",
       "      <td>Mission: Impossible 2</td>\n",
       "      <td>Paramount</td>\n",
       "      <td>$546,388,105</td>\n",
       "      <td>2000</td>\n",
       "      <td>NaN</td>\n",
       "    </tr>\n",
       "    <tr>\n",
       "      <th>1</th>\n",
       "      <td>2</td>\n",
       "      <td>Gladiator</td>\n",
       "      <td>DreamWorks  /  Universal</td>\n",
       "      <td>$460,583,960</td>\n",
       "      <td>2000</td>\n",
       "      <td>NaN</td>\n",
       "    </tr>\n",
       "    <tr>\n",
       "      <th>2</th>\n",
       "      <td>3</td>\n",
       "      <td>Cast Away</td>\n",
       "      <td>Fox  / DreamWorks</td>\n",
       "      <td>$429,632,142</td>\n",
       "      <td>2000</td>\n",
       "      <td>NaN</td>\n",
       "    </tr>\n",
       "    <tr>\n",
       "      <th>3</th>\n",
       "      <td>4</td>\n",
       "      <td>What Women Want</td>\n",
       "      <td>Paramount</td>\n",
       "      <td>$374,111,707</td>\n",
       "      <td>2000</td>\n",
       "      <td>NaN</td>\n",
       "    </tr>\n",
       "    <tr>\n",
       "      <th>4</th>\n",
       "      <td>5</td>\n",
       "      <td>Dinosaur</td>\n",
       "      <td>Disney</td>\n",
       "      <td>$349,822,765</td>\n",
       "      <td>2000</td>\n",
       "      <td>NaN</td>\n",
       "    </tr>\n",
       "    <tr>\n",
       "      <th>...</th>\n",
       "      <td>...</td>\n",
       "      <td>...</td>\n",
       "      <td>...</td>\n",
       "      <td>...</td>\n",
       "      <td>...</td>\n",
       "      <td>...</td>\n",
       "    </tr>\n",
       "    <tr>\n",
       "      <th>205</th>\n",
       "      <td>6</td>\n",
       "      <td>Sonic the Hedgehog</td>\n",
       "      <td>Paramount</td>\n",
       "      <td>$319,715,683</td>\n",
       "      <td>2020</td>\n",
       "      <td>NaN</td>\n",
       "    </tr>\n",
       "    <tr>\n",
       "      <th>206</th>\n",
       "      <td>7</td>\n",
       "      <td>Dolittle</td>\n",
       "      <td>Universal</td>\n",
       "      <td>$251,409,960</td>\n",
       "      <td>2020</td>\n",
       "      <td>NaN</td>\n",
       "    </tr>\n",
       "    <tr>\n",
       "      <th>207</th>\n",
       "      <td>8</td>\n",
       "      <td>Jiang Ziya</td>\n",
       "      <td>Beijing enlight</td>\n",
       "      <td>$243,883,429</td>\n",
       "      <td>2020</td>\n",
       "      <td>NaN</td>\n",
       "    </tr>\n",
       "    <tr>\n",
       "      <th>208</th>\n",
       "      <td>9</td>\n",
       "      <td>A Little Red Flower</td>\n",
       "      <td>HG Entertainment</td>\n",
       "      <td>$238,600,000  [8]  [9]</td>\n",
       "      <td>2020</td>\n",
       "      <td>NaN</td>\n",
       "    </tr>\n",
       "    <tr>\n",
       "      <th>209</th>\n",
       "      <td>10</td>\n",
       "      <td>Shock Wave 2</td>\n",
       "      <td>Universe Films</td>\n",
       "      <td>$226,400,000  [a]</td>\n",
       "      <td>2020</td>\n",
       "      <td>NaN</td>\n",
       "    </tr>\n",
       "  </tbody>\n",
       "</table>\n",
       "<p>210 rows × 6 columns</p>\n",
       "</div>"
      ],
      "text/plain": [
       "     Rank                  Title               Distributor  \\\n",
       "0       1  Mission: Impossible 2                 Paramount   \n",
       "1       2              Gladiator  DreamWorks  /  Universal   \n",
       "2       3              Cast Away         Fox  / DreamWorks   \n",
       "3       4        What Women Want                 Paramount   \n",
       "4       5               Dinosaur                    Disney   \n",
       "..    ...                    ...                       ...   \n",
       "205     6     Sonic the Hedgehog                 Paramount   \n",
       "206     7               Dolittle                 Universal   \n",
       "207     8             Jiang Ziya           Beijing enlight   \n",
       "208     9    A Little Red Flower          HG Entertainment   \n",
       "209    10           Shock Wave 2            Universe Films   \n",
       "\n",
       "            Worldwide gross  Year Distributor(s)  \n",
       "0              $546,388,105  2000            NaN  \n",
       "1              $460,583,960  2000            NaN  \n",
       "2              $429,632,142  2000            NaN  \n",
       "3              $374,111,707  2000            NaN  \n",
       "4              $349,822,765  2000            NaN  \n",
       "..                      ...   ...            ...  \n",
       "205            $319,715,683  2020            NaN  \n",
       "206            $251,409,960  2020            NaN  \n",
       "207            $243,883,429  2020            NaN  \n",
       "208  $238,600,000  [8]  [9]  2020            NaN  \n",
       "209       $226,400,000  [a]  2020            NaN  \n",
       "\n",
       "[210 rows x 6 columns]"
      ]
     },
     "execution_count": 21,
     "metadata": {},
     "output_type": "execute_result"
    }
   ],
   "source": [
    "# Now to concat...\n",
    "full_df = pd.concat([df for df in list_of_dfs], ignore_index=True)\n",
    "full_df"
   ]
  },
  {
   "cell_type": "markdown",
   "metadata": {},
   "source": [
    "Let's practice some data cleaning on the Worldwide Gross column:"
   ]
  },
  {
   "cell_type": "code",
   "execution_count": 22,
   "metadata": {},
   "outputs": [
    {
     "data": {
      "text/plain": [
       "205              $319,715,683\n",
       "206              $251,409,960\n",
       "207              $243,883,429\n",
       "208    $238,600,000  [8]  [9]\n",
       "209         $226,400,000  [a]\n",
       "Name: Worldwide gross, dtype: object"
      ]
     },
     "execution_count": 22,
     "metadata": {},
     "output_type": "execute_result"
    }
   ],
   "source": [
    "# Can see a hint of some gross data in the Gross column\n",
    "full_df['Worldwide gross'].tail()"
   ]
  },
  {
   "cell_type": "code",
   "execution_count": 23,
   "metadata": {},
   "outputs": [
    {
     "data": {
      "text/plain": [
       "Rank                                    9\n",
       "Title                 A Little Red Flower\n",
       "Distributor              HG Entertainment\n",
       "Worldwide gross    $238,600,000  [8]  [9]\n",
       "Year                                 2020\n",
       "Distributor(s)                        NaN\n",
       "Name: 208, dtype: object"
      ]
     },
     "execution_count": 23,
     "metadata": {},
     "output_type": "execute_result"
    }
   ],
   "source": [
    "# Let's check out that complicated example\n",
    "full_df.iloc[208]"
   ]
  },
  {
   "cell_type": "code",
   "execution_count": 24,
   "metadata": {},
   "outputs": [
    {
     "data": {
      "text/plain": [
       "'$238,600,000'"
      ]
     },
     "execution_count": 24,
     "metadata": {},
     "output_type": "execute_result"
    }
   ],
   "source": [
    "# Test out how to clean it...\n",
    "full_df.iloc[208]['Worldwide gross'].split()[0]"
   ]
  },
  {
   "cell_type": "code",
   "execution_count": 25,
   "metadata": {},
   "outputs": [],
   "source": [
    "# Now let's do it on the whole column\n",
    "full_df['Worldwide gross'] = full_df['Worldwide gross'].map(lambda x: x.split()[0])"
   ]
  },
  {
   "cell_type": "code",
   "execution_count": 26,
   "metadata": {},
   "outputs": [
    {
     "data": {
      "text/plain": [
       "205    $319,715,683\n",
       "206    $251,409,960\n",
       "207    $243,883,429\n",
       "208    $238,600,000\n",
       "209    $226,400,000\n",
       "Name: Worldwide gross, dtype: object"
      ]
     },
     "execution_count": 26,
     "metadata": {},
     "output_type": "execute_result"
    }
   ],
   "source": [
    "# Check our work\n",
    "full_df['Worldwide gross'].tail()"
   ]
  },
  {
   "cell_type": "code",
   "execution_count": 27,
   "metadata": {
    "scrolled": false
   },
   "outputs": [],
   "source": [
    "# Can also remove commas and dollar signs, and make the column integers!\n",
    "full_df['Worldwide gross'] = full_df['Worldwide gross'].str.replace(\",\",\"\").str.replace(\"$\",\"\").astype(int)"
   ]
  },
  {
   "cell_type": "code",
   "execution_count": 28,
   "metadata": {
    "scrolled": true
   },
   "outputs": [
    {
     "data": {
      "text/html": [
       "<div>\n",
       "<style scoped>\n",
       "    .dataframe tbody tr th:only-of-type {\n",
       "        vertical-align: middle;\n",
       "    }\n",
       "\n",
       "    .dataframe tbody tr th {\n",
       "        vertical-align: top;\n",
       "    }\n",
       "\n",
       "    .dataframe thead th {\n",
       "        text-align: right;\n",
       "    }\n",
       "</style>\n",
       "<table border=\"1\" class=\"dataframe\">\n",
       "  <thead>\n",
       "    <tr style=\"text-align: right;\">\n",
       "      <th></th>\n",
       "      <th>Rank</th>\n",
       "      <th>Title</th>\n",
       "      <th>Distributor</th>\n",
       "      <th>Worldwide gross</th>\n",
       "      <th>Year</th>\n",
       "      <th>Distributor(s)</th>\n",
       "    </tr>\n",
       "  </thead>\n",
       "  <tbody>\n",
       "    <tr>\n",
       "      <th>205</th>\n",
       "      <td>6</td>\n",
       "      <td>Sonic the Hedgehog</td>\n",
       "      <td>Paramount</td>\n",
       "      <td>319715683</td>\n",
       "      <td>2020</td>\n",
       "      <td>NaN</td>\n",
       "    </tr>\n",
       "    <tr>\n",
       "      <th>206</th>\n",
       "      <td>7</td>\n",
       "      <td>Dolittle</td>\n",
       "      <td>Universal</td>\n",
       "      <td>251409960</td>\n",
       "      <td>2020</td>\n",
       "      <td>NaN</td>\n",
       "    </tr>\n",
       "    <tr>\n",
       "      <th>207</th>\n",
       "      <td>8</td>\n",
       "      <td>Jiang Ziya</td>\n",
       "      <td>Beijing enlight</td>\n",
       "      <td>243883429</td>\n",
       "      <td>2020</td>\n",
       "      <td>NaN</td>\n",
       "    </tr>\n",
       "    <tr>\n",
       "      <th>208</th>\n",
       "      <td>9</td>\n",
       "      <td>A Little Red Flower</td>\n",
       "      <td>HG Entertainment</td>\n",
       "      <td>238600000</td>\n",
       "      <td>2020</td>\n",
       "      <td>NaN</td>\n",
       "    </tr>\n",
       "    <tr>\n",
       "      <th>209</th>\n",
       "      <td>10</td>\n",
       "      <td>Shock Wave 2</td>\n",
       "      <td>Universe Films</td>\n",
       "      <td>226400000</td>\n",
       "      <td>2020</td>\n",
       "      <td>NaN</td>\n",
       "    </tr>\n",
       "  </tbody>\n",
       "</table>\n",
       "</div>"
      ],
      "text/plain": [
       "     Rank                Title       Distributor  Worldwide gross  Year  \\\n",
       "205     6   Sonic the Hedgehog         Paramount        319715683  2020   \n",
       "206     7             Dolittle         Universal        251409960  2020   \n",
       "207     8           Jiang Ziya   Beijing enlight        243883429  2020   \n",
       "208     9  A Little Red Flower  HG Entertainment        238600000  2020   \n",
       "209    10         Shock Wave 2    Universe Films        226400000  2020   \n",
       "\n",
       "    Distributor(s)  \n",
       "205            NaN  \n",
       "206            NaN  \n",
       "207            NaN  \n",
       "208            NaN  \n",
       "209            NaN  "
      ]
     },
     "execution_count": 28,
     "metadata": {},
     "output_type": "execute_result"
    }
   ],
   "source": [
    "# Sanity check\n",
    "full_df.tail()"
   ]
  },
  {
   "cell_type": "markdown",
   "metadata": {},
   "source": [
    "## Discussion Time!\n",
    "\n",
    "What else could we do with webscraping? Any project ideas pop into mind? Any useful things on that page we could also use to grab more data? Let's discuss!\n",
    "\n",
    "- Had URLs in these results - could grab even more data on each movie using those\n",
    "- Can loop through any kind of repeatable URL, provided you figure out the pattern!\n",
    "- The possibilities are endless... (but don't forget to check the terms of use or copyright!)\n"
   ]
  }
 ],
 "metadata": {
  "kernelspec": {
   "display_name": "Python (learn-env)",
   "language": "python",
   "name": "learn-env"
  },
  "language_info": {
   "codemirror_mode": {
    "name": "ipython",
    "version": 3
   },
   "file_extension": ".py",
   "mimetype": "text/x-python",
   "name": "python",
   "nbconvert_exporter": "python",
   "pygments_lexer": "ipython3",
   "version": "3.8.5"
  }
 },
 "nbformat": 4,
 "nbformat_minor": 4
}
